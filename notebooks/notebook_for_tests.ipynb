{
 "cells": [
  {
   "cell_type": "markdown",
   "metadata": {},
   "source": [
    "# Notebooks for testing "
   ]
  },
  {
   "cell_type": "markdown",
   "metadata": {},
   "source": [
    "## DataLoader"
   ]
  },
  {
   "cell_type": "code",
   "execution_count": 1,
   "metadata": {},
   "outputs": [
    {
     "name": "stdout",
     "output_type": "stream",
     "text": [
      "Available Tables: ['drivers', 'starterfields', 'races', 'qualifyings', 'laps', 'retirements', 'fcyphases']\n",
      "   id  carno initials              name\n",
      "0   1     44      HAM    Lewis Hamilton\n",
      "1   2      3      RIC  Daniel Ricciardo\n",
      "2   3      6      ROS      Nico Rosberg\n",
      "3   4     20      MAG   Kevin Magnussen\n",
      "4   5     14      ALO   Fernando Alonso\n"
     ]
    }
   ],
   "source": [
    "# -*- coding: utf-8 -*-\n",
    "\"\"\"\n",
    "data_loader.py\n",
    "\n",
    "Optimized version: Implements lazy loading for better memory efficiency,\n",
    "and uses context managers and error handling for robust database operations.\n",
    "\"\"\"\n",
    "\n",
    "import sqlite3\n",
    "import pandas as pd\n",
    "\n",
    "\n",
    "class DataLoader:\n",
    "    \"\"\"\n",
    "    Class responsible for loading data from an SQLite database with lazy loading.\n",
    "    \"\"\"\n",
    "\n",
    "    def __init__(self, db_path: str):\n",
    "        \"\"\"\n",
    "        Args:\n",
    "            db_path (str): Path to the SQLite database file.\n",
    "        \"\"\"\n",
    "        self.db_path = db_path\n",
    "        self._cache = {}\n",
    "\n",
    "    def _connect(self):\n",
    "        \"\"\"\n",
    "        Creates a connection to the SQLite database.\n",
    "\n",
    "        Returns:\n",
    "            sqlite3.Connection: Database connection object.\n",
    "        \"\"\"\n",
    "        try:\n",
    "            connection = sqlite3.connect(self.db_path)\n",
    "            return connection\n",
    "        except sqlite3.Error as e:\n",
    "            print(f\"Error connecting to database: {e}\")\n",
    "            raise\n",
    "\n",
    "    def load_table(self, table_name: str) -> pd.DataFrame:\n",
    "        \"\"\"\n",
    "        Lazily loads a table from the database into a Pandas DataFrame.\n",
    "\n",
    "        Args:\n",
    "            table_name (str): Name of the table to load.\n",
    "\n",
    "        Returns:\n",
    "            pd.DataFrame: DataFrame containing the table data.\n",
    "        \"\"\"\n",
    "        if table_name in self._cache:\n",
    "            return self._cache[table_name]\n",
    "\n",
    "        try:\n",
    "            with self._connect() as connection:\n",
    "                query = f\"SELECT * FROM {table_name}\"\n",
    "                df = pd.read_sql_query(query, connection)\n",
    "            self._cache[table_name] = df  # Cache the table\n",
    "            return df\n",
    "        except sqlite3.Error as e:\n",
    "            print(f\"Error loading table '{table_name}': {e}\")\n",
    "            raise\n",
    "\n",
    "    def get_available_tables(self) -> list:\n",
    "        \"\"\"\n",
    "        Retrieves the list of available tables in the database.\n",
    "\n",
    "        Returns:\n",
    "            list: List of table names.\n",
    "        \"\"\"\n",
    "        try:\n",
    "            with self._connect() as connection:\n",
    "                query = \"SELECT name FROM sqlite_master WHERE type='table';\"\n",
    "                tables = [row[0] for row in connection.execute(query).fetchall()]\n",
    "            return tables\n",
    "        except sqlite3.Error as e:\n",
    "            print(f\"Error retrieving available tables: {e}\")\n",
    "            raise\n",
    "\n",
    "    def clear_cache(self):\n",
    "        \"\"\"\n",
    "        Clears the cached tables to free memory.\n",
    "        \"\"\"\n",
    "        self._cache.clear()\n",
    "\n",
    "\n",
    "\n",
    "db_path = \"../data/F1_timingdata_2014_2019.sqlite\"\n",
    "data_loader = DataLoader(db_path)\n",
    "\n",
    "try:\n",
    "    print(\"Available Tables:\", data_loader.get_available_tables())  # Lists available tables\n",
    "    drivers_df = data_loader.load_table(\"drivers\")  # Loads only \"drivers\" table\n",
    "    print(drivers_df.head())  # Displays a preview\n",
    "except Exception as e:\n",
    "    print(\"An error occurred during data loading:\", e)"
   ]
  }
 ],
 "metadata": {
  "kernelspec": {
   "display_name": "Python 3",
   "language": "python",
   "name": "python3"
  },
  "language_info": {
   "codemirror_mode": {
    "name": "ipython",
    "version": 3
   },
   "file_extension": ".py",
   "mimetype": "text/x-python",
   "name": "python",
   "nbconvert_exporter": "python",
   "pygments_lexer": "ipython3",
   "version": "3.11.3"
  }
 },
 "nbformat": 4,
 "nbformat_minor": 2
}
