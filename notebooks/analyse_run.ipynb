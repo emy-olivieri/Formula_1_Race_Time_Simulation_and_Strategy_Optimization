{
 "cells": [
  {
   "cell_type": "markdown",
   "id": "27ad33b5",
   "metadata": {},
   "source": [
    "# F1 Race Simulation Notebook\n",
    "\n",
    "This notebook test the `Run` class and demonstrates how to simulate races on the 2016 F1 timing database with both deterministic and stochastic modes."
   ]
  },
  {
   "cell_type": "markdown",
   "id": "550f19cc",
   "metadata": {},
   "source": [
    "## Configuration"
   ]
  },
  {
   "cell_type": "code",
   "execution_count": 1,
   "id": "1d14ce9f",
   "metadata": {},
   "outputs": [],
   "source": [
    "import os\n",
    "import sys"
   ]
  },
  {
   "cell_type": "code",
   "execution_count": 2,
   "id": "78848015",
   "metadata": {},
   "outputs": [
    {
     "name": "stdout",
     "output_type": "stream",
     "text": [
      "Project root added to sys.path: c:\\Users\\mateo\\Desktop\\MCEM\\new\\Nouveau dossier\\Simulation_Project\n"
     ]
    }
   ],
   "source": [
    "project_root = os.path.abspath(os.path.join(os.getcwd(), \"..\"))\n",
    "if project_root not in sys.path:\n",
    "    sys.path.insert(0, project_root)\n",
    "\n",
    "print(\"Project root added to sys.path:\", project_root)"
   ]
  },
  {
   "cell_type": "code",
   "execution_count": 3,
   "id": "f0cf92e6",
   "metadata": {},
   "outputs": [],
   "source": [
    "# === General configuration ===\n",
    "season = 2016\n",
    "location=\"Austin\"\n",
    "db_path = \"../data/F1_timingdata_2014_2019.sqlite\"\n",
    "\n",
    "# === List of test GPs with associated strategy files for a given season ===\n",
    "\n",
    "gp_configs = {\n",
    "    \"Austin\": {\n",
    "        \"strategy_file\": \"strategies_austin_2016.pkl\",\n",
    "        \"var_name\": \"simulator_austin\"\n",
    "    },\n",
    "    \"Suzuka\": {\n",
    "        \"strategy_file\": \"strategies_suzuka_2016.pkl\",\n",
    "        \"var_name\": \"simulator_suzuka\"\n",
    "    },\n",
    "    \"MexicoCity\": {\n",
    "        \"strategy_file\": \"strategies_mexico_2016.pkl\",\n",
    "        \"var_name\": \"simulator_mexico\"\n",
    "    },\n",
    "    \"YasMarina\": {\n",
    "        \"strategy_file\": \"strategies_yasmarina_2016.pkl\",\n",
    "        \"var_name\": \"simulator_yasmarina\"\n",
    "    }\n",
    "}\n"
   ]
  },
  {
   "cell_type": "markdown",
   "id": "298dc369",
   "metadata": {},
   "source": [
    "## Load and Preprocess Data"
   ]
  },
  {
   "cell_type": "code",
   "execution_count": 4,
   "id": "525175e2",
   "metadata": {},
   "outputs": [],
   "source": [
    "from data_loader import DataLoader\n",
    "from preprocessor import DataPreprocessor\n",
    "\n",
    "# Load raw data\n",
    "loader = DataLoader(db_path)\n",
    "raw_data = loader.load_data()\n",
    "\n",
    "required_columns = {\n",
    "    \"drivers\": [\n",
    "        \"id\",\n",
    "        \"name\",\n",
    "        \"initials\",\n",
    "    ],\n",
    "    \"races\": [\n",
    "        \"id\",\n",
    "        \"season\",\n",
    "        \"location\",\n",
    "        \"nolapsplanned\",\n",
    "    ],\n",
    "    \"starterfields\": [\n",
    "        \"race_id\",\n",
    "        \"driver_id\",\n",
    "        \"team\",\n",
    "        \"status\",\n",
    "        \"resultposition\",\n",
    "    ],\n",
    "    \"laps\": [\n",
    "        \"race_id\",\n",
    "        \"driver_id\",\n",
    "        \"lapno\",\n",
    "        \"laptime\",\n",
    "        \"racetime\",\n",
    "        \"compound\",\n",
    "        \"tireage\",\n",
    "        \"pitintime\",\n",
    "        \"pitstopduration\",\n",
    "    ],\n",
    "    \"qualifyings\": [\n",
    "        \"race_id\",\n",
    "        \"driver_id\",\n",
    "        \"position\",\n",
    "        \"q1laptime\",\n",
    "        \"q2laptime\",\n",
    "        \"q3laptime\",\n",
    "    ],\n",
    "    \"retirements\": [\n",
    "        \"season\",\n",
    "        \"driver_id\",\n",
    "        \"accidents\",\n",
    "        \"failures\",\n",
    "    ],\n",
    "    \"fcyphases\": [\n",
    "        \"race_id\",\n",
    "        \"startlap\",\n",
    "        \"endlap\",\n",
    "    ],\n",
    "}\n",
    "\n",
    "\n",
    "\n",
    "preprocessor = DataPreprocessor(required_columns)\n",
    "data_tables = preprocessor.preprocess(raw_data)\n"
   ]
  },
  {
   "cell_type": "markdown",
   "id": "4dc96818",
   "metadata": {},
   "source": [
    "## Run Stochastic Simulations"
   ]
  },
  {
   "cell_type": "code",
   "execution_count": 7,
   "id": "70ad0b57",
   "metadata": {},
   "outputs": [
    {
     "name": "stdout",
     "output_type": "stream",
     "text": [
      "============================================================\n",
      " Running Simulation for: Austin\n",
      "Simulation completed for: Austin\n",
      "============================================================\n",
      "============================================================\n",
      " Running Simulation for: Suzuka\n",
      "Simulation completed for: Suzuka\n",
      "============================================================\n",
      "============================================================\n",
      " Running Simulation for: MexicoCity\n",
      "Simulation completed for: MexicoCity\n",
      "============================================================\n",
      "============================================================\n",
      " Running Simulation for: YasMarina\n",
      "Simulation completed for: YasMarina\n",
      "============================================================\n"
     ]
    }
   ],
   "source": [
    "import pickle\n",
    "from run import Run\n",
    "\n",
    "# === Dictionary to store simulators by name ===\n",
    "Probabilistic_simulators = {}\n",
    "\n",
    "# === Loop through each GP ===\n",
    "for gp, cfg in gp_configs.items():\n",
    "    print(\"=\" * 60)\n",
    "    print(f\" Running Simulation for: {gp}\")\n",
    "\n",
    "    # Load strategy\n",
    "    with open(f\"../data/{cfg['strategy_file']}\", \"rb\") as f:\n",
    "        driver_strategies = pickle.load(f)\n",
    "\n",
    "    # Create simulator\n",
    "    sim = Run(season, \n",
    "              gp, \n",
    "              data_tables, \n",
    "              driver_strategies)\n",
    "\n",
    "    sim.run()\n",
    "\n",
    "    # Store simulator with dynamic name (and in dict)\n",
    "    globals()[cfg[\"var_name\"]] = sim.outcomes\n",
    "    Probabilistic_simulators[cfg[\"var_name\"]] = sim.outcomes\n",
    "    print(f\"Simulation completed for: {gp}\")\n",
    "    print(\"=\" * 60)\n"
   ]
  },
  {
   "cell_type": "markdown",
   "id": "8d582db2",
   "metadata": {},
   "source": [
    "## Run Deterministic Simulation"
   ]
  },
  {
   "cell_type": "code",
   "execution_count": 6,
   "id": "1c4b2c4a",
   "metadata": {},
   "outputs": [
    {
     "name": "stdout",
     "output_type": "stream",
     "text": [
      "============================================================\n",
      "🏁 Running Simulation for: Austin\n",
      "============================================================\n",
      "Simulation completed for: Austin\n",
      "============================================================\n",
      "🏁 Running Simulation for: Suzuka\n",
      "============================================================\n",
      "Simulation completed for: Suzuka\n",
      "============================================================\n",
      "🏁 Running Simulation for: MexicoCity\n",
      "============================================================\n",
      "Simulation completed for: MexicoCity\n",
      "============================================================\n",
      "🏁 Running Simulation for: YasMarina\n",
      "============================================================\n",
      "Simulation completed for: YasMarina\n"
     ]
    }
   ],
   "source": [
    "import pickle\n",
    "from run import Run\n",
    "\n",
    "# === Dictionary to store simulators by name ===\n",
    "simulators = {}\n",
    "\n",
    "# === Loop through each GP ===\n",
    "for gp, cfg in gp_configs.items():\n",
    "    print(\"=\" * 60)\n",
    "    print(f\" Running Simulation for: {gp}\")\n",
    "    \n",
    "\n",
    "    # Load strategy\n",
    "    with open(f\"../data/{cfg['strategy_file']}\", \"rb\") as f:\n",
    "        driver_strategies = pickle.load(f)\n",
    "\n",
    "    # Create simulator\n",
    "    sim = Run(season, \n",
    "              gp, \n",
    "              data_tables, \n",
    "              driver_strategies,\n",
    "              test=True)\n",
    "\n",
    "    sim.run()\n",
    "\n",
    "    # Store simulator with dynamic name (and in dict)\n",
    "    globals()[cfg[\"var_name\"]] = sim.outcomes\n",
    "    simulators[cfg[\"var_name\"]] = sim.outcomes\n",
    "    print(f\"Simulation completed for: {gp}\")\n",
    "    print(\"=\" * 60)\n"
   ]
  }
 ],
 "metadata": {
  "kernelspec": {
   "display_name": "Python 3",
   "language": "python",
   "name": "python3"
  },
  "language_info": {
   "codemirror_mode": {
    "name": "ipython",
    "version": 3
   },
   "file_extension": ".py",
   "mimetype": "text/x-python",
   "name": "python",
   "nbconvert_exporter": "python",
   "pygments_lexer": "ipython3",
   "version": "3.11.3"
  }
 },
 "nbformat": 4,
 "nbformat_minor": 5
}
