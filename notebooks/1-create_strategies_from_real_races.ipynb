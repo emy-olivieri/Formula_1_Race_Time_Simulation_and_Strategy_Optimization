{
 "cells": [
  {
   "cell_type": "markdown",
   "metadata": {},
   "source": [
    "# Strategy Creation Notebook\n",
    "This notebook allows you to generate and save race strategies based on historical F1 data.\n"
   ]
  },
  {
   "cell_type": "code",
   "execution_count": null,
   "metadata": {},
   "outputs": [
    {
     "name": "stdout",
     "output_type": "stream",
     "text": [
      "Project root added to sys.path: c:\\Users\\mateo\\Desktop\\MCEM\\new\\Nouveau dossier\\Simulation_Project\n"
     ]
    }
   ],
   "source": [
    "import os\n",
    "import sys\n",
    "\n",
    "project_root = os.path.abspath(os.path.join(os.getcwd(), \"..\"))\n",
    "if project_root not in sys.path:\n",
    "    sys.path.insert(0, project_root)\n",
    "\n",
    "print(\"Project root added to sys.path:\", project_root)"
   ]
  },
  {
   "cell_type": "code",
   "execution_count": 4,
   "metadata": {},
   "outputs": [],
   "source": [
    "import pickle\n",
    "from helpers.helper_functions import generate_pit_stop_strategy\n",
    "from data_loader import DataLoader"
   ]
  },
  {
   "cell_type": "code",
   "execution_count": 5,
   "metadata": {},
   "outputs": [],
   "source": [
    "db_path = \"../data/F1_timingdata_2014_2019.sqlite\"\n",
    "data_loader = DataLoader(db_path)\n",
    "dataframes = data_loader.load_data()"
   ]
  },
  {
   "cell_type": "code",
   "execution_count": 11,
   "metadata": {},
   "outputs": [
    {
     "name": "stdout",
     "output_type": "stream",
     "text": [
      "Generating strategy for Austin...\n",
      "Saved strategy to: ../data/strategies_austin.pkl\n",
      "Generating strategy for Suzuka...\n",
      "Saved strategy to: ../data/strategies_suzuka.pkl\n",
      "Generating strategy for MexicoCity...\n",
      "Saved strategy to: ../data/strategies_mexico.pkl\n",
      "Generating strategy for YasMarina...\n",
      "Saved strategy to: ../data/strategies_yasmarina.pkl\n"
     ]
    }
   ],
   "source": [
    "# List of races \n",
    "gps = {\n",
    "    \"Austin\": \"strategies_austin.pkl\",\n",
    "    \"Suzuka\": \"strategies_suzuka.pkl\",\n",
    "    \"MexicoCity\": \"strategies_mexico.pkl\",\n",
    "    \"YasMarina\": \"strategies_yasmarina.pkl\"\n",
    "}\n",
    "\n",
    "# Generate and save race strategy\n",
    "for location, filename in gps.items():\n",
    "    print(f\"Generating strategy for {location}...\")\n",
    "    strategy = generate_pit_stop_strategy(season=2016, location=location, dataframes=dataframes)\n",
    "\n",
    "    path = f\"../data/{filename}\"\n",
    "    with open(path, \"wb\") as f:\n",
    "        pickle.dump(strategy, f)\n",
    "    \n",
    "    print(f\"Saved strategy to: {path}\")\n"
   ]
  },
  {
   "cell_type": "code",
   "execution_count": null,
   "metadata": {},
   "outputs": [],
   "source": []
  },
  {
   "cell_type": "code",
   "execution_count": null,
   "metadata": {},
   "outputs": [
    {
     "ename": "SyntaxError",
     "evalue": "f-string: empty expression not allowed (2004625977.py, line 2)",
     "output_type": "error",
     "traceback": [
      "\u001b[1;36m  Cell \u001b[1;32mIn[17], line 2\u001b[1;36m\u001b[0m\n\u001b[1;33m    with open(f\"../data/{}\", \"rb\") as f:\u001b[0m\n\u001b[1;37m                           ^\u001b[0m\n\u001b[1;31mSyntaxError\u001b[0m\u001b[1;31m:\u001b[0m f-string: empty expression not allowed\n"
     ]
    }
   ],
   "source": [
    "# How to open a file  :\n",
    "with open(f\"../data/strategies_austin.pkl\", \"rb\") as f:\n",
    "    loaded_strategy = pickle.load(f)"
   ]
  }
 ],
 "metadata": {
  "kernelspec": {
   "display_name": "Python 3",
   "language": "python",
   "name": "python3"
  },
  "language_info": {
   "codemirror_mode": {
    "name": "ipython",
    "version": 3
   },
   "file_extension": ".py",
   "mimetype": "text/x-python",
   "name": "python",
   "nbconvert_exporter": "python",
   "pygments_lexer": "ipython3",
   "version": "3.11.3"
  }
 },
 "nbformat": 4,
 "nbformat_minor": 2
}
