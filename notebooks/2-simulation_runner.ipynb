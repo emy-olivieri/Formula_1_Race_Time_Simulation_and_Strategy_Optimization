{
 "cells": [
  {
   "cell_type": "markdown",
   "metadata": {},
   "source": [
    "# Simulation Runner\n",
    "This notebook runs Monte Carlo simulations using prepared strategies and shows comparison outputs.\n"
   ]
  },
  {
   "cell_type": "code",
   "execution_count": 1,
   "metadata": {},
   "outputs": [
    {
     "name": "stdout",
     "output_type": "stream",
     "text": [
      "Project root added to sys.path: c:\\Users\\mateo\\Desktop\\MCEM\\new\\Nouveau dossier\\Simulation_Project\n"
     ]
    }
   ],
   "source": [
    "import os\n",
    "import sys\n",
    "\n",
    "project_root = os.path.abspath(os.path.join(os.getcwd(), \"..\"))\n",
    "if project_root not in sys.path:\n",
    "    sys.path.insert(0, project_root)\n",
    "\n",
    "print(\"Project root added to sys.path:\", project_root)"
   ]
  },
  {
   "cell_type": "code",
   "execution_count": 2,
   "metadata": {},
   "outputs": [],
   "source": [
    "import pickle\n",
    "import logging\n",
    "from monte_carlo_simulator import MonteCarloSimulator"
   ]
  },
  {
   "cell_type": "code",
   "execution_count": 3,
   "metadata": {},
   "outputs": [],
   "source": [
    "# General configuration\n",
    "SEASON = 2016\n",
    "DB_PATH = \"../data/F1_timingdata_2014_2019.sqlite\"\n",
    "NUM_SIMULATIONS = 2\n",
    "\n",
    "# === List of GPs with associated strategy files ===\n",
    "GP_CONFIGS = {\n",
    "    \"Austin\": {\n",
    "        \"strategy_file\": \"strategies_austin_2016.pkl\",\n",
    "        \"var_name\": \"simulator_austin\"\n",
    "    },\n",
    "    \"Suzuka\": {\n",
    "        \"strategy_file\": \"strategies_suzuka_2016.pkl\",\n",
    "        \"var_name\": \"simulator_suzuka\"\n",
    "    },\n",
    "    \"MexicoCity\": {\n",
    "        \"strategy_file\": \"strategies_mexico_2016.pkl\",\n",
    "        \"var_name\": \"simulator_mexico\"\n",
    "    },\n",
    "    \"YasMarina\": {\n",
    "        \"strategy_file\": \"strategies_yasmarina_2016.pkl\",\n",
    "        \"var_name\": \"simulator_yasmarina\"\n",
    "    }\n",
    "}\n",
    "\n",
    "# Configure logging\n",
    "logging.basicConfig(level=logging.INFO, format=\"[%(levelname)s] %(message)s\")\n"
   ]
  },
  {
   "cell_type": "code",
   "execution_count": 4,
   "metadata": {},
   "outputs": [
    {
     "name": "stdout",
     "output_type": "stream",
     "text": [
      "============================================================\n",
      "Running simulation for: Austin\n",
      "============================================================\n"
     ]
    },
    {
     "name": "stderr",
     "output_type": "stream",
     "text": [
      "[INFO] MCSim.Austin: Simulating 2 races for Austin 2016\n",
      "[INFO] Simulating 2 races for Austin 2016\n"
     ]
    },
    {
     "data": {
      "application/vnd.jupyter.widget-view+json": {
       "model_id": "36581d04ef204b45b5d52c565909b098",
       "version_major": 2,
       "version_minor": 0
      },
      "text/plain": [
       "Output()"
      ]
     },
     "metadata": {},
     "output_type": "display_data"
    },
    {
     "data": {
      "text/html": [
       "<pre style=\"white-space:pre;overflow-x:auto;line-height:normal;font-family:Menlo,'DejaVu Sans Mono',consolas,'Courier New',monospace\">[INFO] Race simulation for Austin in 2016 completed.\n",
       "</pre>\n"
      ],
      "text/plain": [
       "[INFO] Race simulation for Austin in 2016 completed.\n"
      ]
     },
     "metadata": {},
     "output_type": "display_data"
    },
    {
     "name": "stderr",
     "output_type": "stream",
     "text": [
      "[INFO] Race simulation for Austin in 2016 completed.\n"
     ]
    },
    {
     "data": {
      "text/html": [
       "<pre style=\"white-space:pre;overflow-x:auto;line-height:normal;font-family:Menlo,'DejaVu Sans Mono',consolas,'Courier New',monospace\">[INFO] Race simulation for Austin in 2016 completed.\n",
       "</pre>\n"
      ],
      "text/plain": [
       "[INFO] Race simulation for Austin in 2016 completed.\n"
      ]
     },
     "metadata": {},
     "output_type": "display_data"
    },
    {
     "name": "stderr",
     "output_type": "stream",
     "text": [
      "[INFO] Race simulation for Austin in 2016 completed.\n"
     ]
    },
    {
     "data": {
      "text/html": [
       "<pre style=\"white-space:pre;overflow-x:auto;line-height:normal;font-family:Menlo,'DejaVu Sans Mono',consolas,'Courier New',monospace\"></pre>\n"
      ],
      "text/plain": []
     },
     "metadata": {},
     "output_type": "display_data"
    },
    {
     "data": {
      "text/html": [
       "<pre style=\"white-space:pre;overflow-x:auto;line-height:normal;font-family:Menlo,'DejaVu Sans Mono',consolas,'Courier New',monospace\">\n",
       "</pre>\n"
      ],
      "text/plain": [
       "\n"
      ]
     },
     "metadata": {},
     "output_type": "display_data"
    },
    {
     "name": "stderr",
     "output_type": "stream",
     "text": [
      "[INFO] MCSim.Austin: Simulations completed.\n",
      "[INFO] Simulations completed.\n",
      "[INFO] MCSim.Austin: Comparison DataFrame is ready.\n",
      "[INFO] Comparison DataFrame is ready.\n"
     ]
    },
    {
     "name": "stdout",
     "output_type": "stream",
     "text": [
      "============================================================\n",
      "Running simulation for: Suzuka\n",
      "============================================================\n"
     ]
    },
    {
     "name": "stderr",
     "output_type": "stream",
     "text": [
      "[INFO] MCSim.Suzuka: Simulating 2 races for Suzuka 2016\n",
      "[INFO] Simulating 2 races for Suzuka 2016\n"
     ]
    },
    {
     "data": {
      "application/vnd.jupyter.widget-view+json": {
       "model_id": "249380446b9f4d02ad5476b8dbdaa6bd",
       "version_major": 2,
       "version_minor": 0
      },
      "text/plain": [
       "Output()"
      ]
     },
     "metadata": {},
     "output_type": "display_data"
    },
    {
     "data": {
      "text/html": [
       "<pre style=\"white-space:pre;overflow-x:auto;line-height:normal;font-family:Menlo,'DejaVu Sans Mono',consolas,'Courier New',monospace\">[INFO] Race simulation for Suzuka in 2016 completed.\n",
       "</pre>\n"
      ],
      "text/plain": [
       "[INFO] Race simulation for Suzuka in 2016 completed.\n"
      ]
     },
     "metadata": {},
     "output_type": "display_data"
    },
    {
     "name": "stderr",
     "output_type": "stream",
     "text": [
      "[INFO] Race simulation for Suzuka in 2016 completed.\n"
     ]
    },
    {
     "name": "stderr",
     "output_type": "stream",
     "text": [
      "[INFO] Race simulation for Suzuka in 2016 completed.\n"
     ]
    },
    {
     "data": {
      "text/html": [
       "<pre style=\"white-space:pre;overflow-x:auto;line-height:normal;font-family:Menlo,'DejaVu Sans Mono',consolas,'Courier New',monospace\"></pre>\n"
      ],
      "text/plain": []
     },
     "metadata": {},
     "output_type": "display_data"
    },
    {
     "data": {
      "text/html": [
       "<pre style=\"white-space:pre;overflow-x:auto;line-height:normal;font-family:Menlo,'DejaVu Sans Mono',consolas,'Courier New',monospace\">\n",
       "</pre>\n"
      ],
      "text/plain": [
       "\n"
      ]
     },
     "metadata": {},
     "output_type": "display_data"
    },
    {
     "name": "stderr",
     "output_type": "stream",
     "text": [
      "[INFO] MCSim.Suzuka: Simulations completed.\n",
      "[INFO] Simulations completed.\n",
      "[INFO] MCSim.Suzuka: Comparison DataFrame is ready.\n",
      "[INFO] Comparison DataFrame is ready.\n"
     ]
    },
    {
     "name": "stdout",
     "output_type": "stream",
     "text": [
      "============================================================\n",
      "Running simulation for: MexicoCity\n",
      "============================================================\n"
     ]
    },
    {
     "name": "stderr",
     "output_type": "stream",
     "text": [
      "[INFO] MCSim.MexicoCity: Simulating 2 races for MexicoCity 2016\n",
      "[INFO] Simulating 2 races for MexicoCity 2016\n"
     ]
    },
    {
     "data": {
      "application/vnd.jupyter.widget-view+json": {
       "model_id": "ee567755195044bb91f9111c8e691ae6",
       "version_major": 2,
       "version_minor": 0
      },
      "text/plain": [
       "Output()"
      ]
     },
     "metadata": {},
     "output_type": "display_data"
    },
    {
     "data": {
      "text/html": [
       "<pre style=\"white-space:pre;overflow-x:auto;line-height:normal;font-family:Menlo,'DejaVu Sans Mono',consolas,'Courier New',monospace\">[INFO] Race simulation for MexicoCity in 2016 completed.\n",
       "</pre>\n"
      ],
      "text/plain": [
       "[INFO] Race simulation for MexicoCity in 2016 completed.\n"
      ]
     },
     "metadata": {},
     "output_type": "display_data"
    },
    {
     "name": "stderr",
     "output_type": "stream",
     "text": [
      "[INFO] Race simulation for MexicoCity in 2016 completed.\n"
     ]
    },
    {
     "data": {
      "text/html": [
       "<pre style=\"white-space:pre;overflow-x:auto;line-height:normal;font-family:Menlo,'DejaVu Sans Mono',consolas,'Courier New',monospace\">[INFO] Race simulation for MexicoCity in 2016 completed.\n",
       "</pre>\n"
      ],
      "text/plain": [
       "[INFO] Race simulation for MexicoCity in 2016 completed.\n"
      ]
     },
     "metadata": {},
     "output_type": "display_data"
    },
    {
     "name": "stderr",
     "output_type": "stream",
     "text": [
      "[INFO] Race simulation for MexicoCity in 2016 completed.\n"
     ]
    },
    {
     "data": {
      "text/html": [
       "<pre style=\"white-space:pre;overflow-x:auto;line-height:normal;font-family:Menlo,'DejaVu Sans Mono',consolas,'Courier New',monospace\"></pre>\n"
      ],
      "text/plain": []
     },
     "metadata": {},
     "output_type": "display_data"
    },
    {
     "data": {
      "text/html": [
       "<pre style=\"white-space:pre;overflow-x:auto;line-height:normal;font-family:Menlo,'DejaVu Sans Mono',consolas,'Courier New',monospace\">\n",
       "</pre>\n"
      ],
      "text/plain": [
       "\n"
      ]
     },
     "metadata": {},
     "output_type": "display_data"
    },
    {
     "name": "stderr",
     "output_type": "stream",
     "text": [
      "[INFO] MCSim.MexicoCity: Simulations completed.\n",
      "[INFO] Simulations completed.\n",
      "[INFO] MCSim.MexicoCity: Comparison DataFrame is ready.\n",
      "[INFO] Comparison DataFrame is ready.\n"
     ]
    },
    {
     "name": "stdout",
     "output_type": "stream",
     "text": [
      "============================================================\n",
      "Running simulation for: YasMarina\n",
      "============================================================\n"
     ]
    },
    {
     "name": "stderr",
     "output_type": "stream",
     "text": [
      "[INFO] MCSim.YasMarina: Simulating 2 races for YasMarina 2016\n",
      "[INFO] Simulating 2 races for YasMarina 2016\n"
     ]
    },
    {
     "data": {
      "application/vnd.jupyter.widget-view+json": {
       "model_id": "4b5544de6aa1420686b19707b3a0868b",
       "version_major": 2,
       "version_minor": 0
      },
      "text/plain": [
       "Output()"
      ]
     },
     "metadata": {},
     "output_type": "display_data"
    },
    {
     "data": {
      "text/html": [
       "<pre style=\"white-space:pre;overflow-x:auto;line-height:normal;font-family:Menlo,'DejaVu Sans Mono',consolas,'Courier New',monospace\">[INFO] Race simulation for YasMarina in 2016 completed.\n",
       "</pre>\n"
      ],
      "text/plain": [
       "[INFO] Race simulation for YasMarina in 2016 completed.\n"
      ]
     },
     "metadata": {},
     "output_type": "display_data"
    },
    {
     "name": "stderr",
     "output_type": "stream",
     "text": [
      "[INFO] Race simulation for YasMarina in 2016 completed.\n"
     ]
    },
    {
     "data": {
      "text/html": [
       "<pre style=\"white-space:pre;overflow-x:auto;line-height:normal;font-family:Menlo,'DejaVu Sans Mono',consolas,'Courier New',monospace\">[INFO] Race simulation for YasMarina in 2016 completed.\n",
       "</pre>\n"
      ],
      "text/plain": [
       "[INFO] Race simulation for YasMarina in 2016 completed.\n"
      ]
     },
     "metadata": {},
     "output_type": "display_data"
    },
    {
     "name": "stderr",
     "output_type": "stream",
     "text": [
      "[INFO] Race simulation for YasMarina in 2016 completed.\n"
     ]
    },
    {
     "data": {
      "text/html": [
       "<pre style=\"white-space:pre;overflow-x:auto;line-height:normal;font-family:Menlo,'DejaVu Sans Mono',consolas,'Courier New',monospace\"></pre>\n"
      ],
      "text/plain": []
     },
     "metadata": {},
     "output_type": "display_data"
    },
    {
     "data": {
      "text/html": [
       "<pre style=\"white-space:pre;overflow-x:auto;line-height:normal;font-family:Menlo,'DejaVu Sans Mono',consolas,'Courier New',monospace\">\n",
       "</pre>\n"
      ],
      "text/plain": [
       "\n"
      ]
     },
     "metadata": {},
     "output_type": "display_data"
    },
    {
     "name": "stderr",
     "output_type": "stream",
     "text": [
      "[INFO] MCSim.YasMarina: Simulations completed.\n",
      "[INFO] Simulations completed.\n",
      "[INFO] MCSim.YasMarina: Comparison DataFrame is ready.\n",
      "[INFO] Comparison DataFrame is ready.\n"
     ]
    }
   ],
   "source": [
    "# === Dictionary to store simulators by name ===\n",
    "simulators = {}\n",
    "\n",
    "# === Loop through each GP ===\n",
    "for gp_name, cfg in GP_CONFIGS.items():\n",
    "    print(\"=\"*60)\n",
    "    print(f\"Running simulation for: {gp_name}\")\n",
    "    print(\"=\"*60)\n",
    "\n",
    "    # Load strategy\n",
    "    strategy_path = f\"../data/{cfg['strategy_file']}\"\n",
    "    with open(strategy_path, \"rb\") as f:\n",
    "        driver_strategies = pickle.load(f)\n",
    "\n",
    "    # Instantiate simulator\n",
    "    sim = MonteCarloSimulator(\n",
    "        season=SEASON,\n",
    "        gp_location=gp_name,\n",
    "        db_path=DB_PATH,\n",
    "        driver_strategies=driver_strategies,\n",
    "        num_simulations=NUM_SIMULATIONS,\n",
    "        test_mode=True,\n",
    "        starting_grid=None,\n",
    "        verbose=True,\n",
    "    )\n",
    "    sim.run_simulation()\n",
    "    stats = sim.summarize()\n",
    "\n",
    "    simulators[cfg[\"var_name\"]] = sim\n"
   ]
  },
  {
   "cell_type": "code",
   "execution_count": 5,
   "metadata": {},
   "outputs": [
    {
     "name": "stdout",
     "output_type": "stream",
     "text": [
      "============================================================\n",
      "Running simulation for: Austin\n",
      "============================================================\n"
     ]
    },
    {
     "name": "stderr",
     "output_type": "stream",
     "text": [
      "[INFO] MCSim.Austin: Simulating 2 races for Austin 2016\n",
      "[INFO] Simulating 2 races for Austin 2016\n"
     ]
    },
    {
     "data": {
      "application/vnd.jupyter.widget-view+json": {
       "model_id": "d99ad302824342759d53b6f6ba776652",
       "version_major": 2,
       "version_minor": 0
      },
      "text/plain": [
       "Output()"
      ]
     },
     "metadata": {},
     "output_type": "display_data"
    },
    {
     "data": {
      "text/html": [
       "<pre style=\"white-space:pre;overflow-x:auto;line-height:normal;font-family:Menlo,'DejaVu Sans Mono',consolas,'Courier New',monospace\">[INFO] Race simulation for Austin in 2016 completed.\n",
       "</pre>\n"
      ],
      "text/plain": [
       "[INFO] Race simulation for Austin in 2016 completed.\n"
      ]
     },
     "metadata": {},
     "output_type": "display_data"
    },
    {
     "name": "stderr",
     "output_type": "stream",
     "text": [
      "[INFO] Race simulation for Austin in 2016 completed.\n"
     ]
    },
    {
     "data": {
      "text/html": [
       "<pre style=\"white-space:pre;overflow-x:auto;line-height:normal;font-family:Menlo,'DejaVu Sans Mono',consolas,'Courier New',monospace\">[INFO] Race simulation for Austin in 2016 completed.\n",
       "</pre>\n"
      ],
      "text/plain": [
       "[INFO] Race simulation for Austin in 2016 completed.\n"
      ]
     },
     "metadata": {},
     "output_type": "display_data"
    },
    {
     "name": "stderr",
     "output_type": "stream",
     "text": [
      "[INFO] Race simulation for Austin in 2016 completed.\n"
     ]
    },
    {
     "data": {
      "text/html": [
       "<pre style=\"white-space:pre;overflow-x:auto;line-height:normal;font-family:Menlo,'DejaVu Sans Mono',consolas,'Courier New',monospace\"></pre>\n"
      ],
      "text/plain": []
     },
     "metadata": {},
     "output_type": "display_data"
    },
    {
     "data": {
      "text/html": [
       "<pre style=\"white-space:pre;overflow-x:auto;line-height:normal;font-family:Menlo,'DejaVu Sans Mono',consolas,'Courier New',monospace\">\n",
       "</pre>\n"
      ],
      "text/plain": [
       "\n"
      ]
     },
     "metadata": {},
     "output_type": "display_data"
    },
    {
     "name": "stderr",
     "output_type": "stream",
     "text": [
      "[INFO] MCSim.Austin: Simulations completed.\n",
      "[INFO] Simulations completed.\n",
      "[INFO] MCSim.Austin: Comparison DataFrame is ready.\n",
      "[INFO] Comparison DataFrame is ready.\n"
     ]
    },
    {
     "name": "stdout",
     "output_type": "stream",
     "text": [
      "============================================================\n",
      "Running simulation for: Suzuka\n",
      "============================================================\n"
     ]
    },
    {
     "name": "stderr",
     "output_type": "stream",
     "text": [
      "[INFO] MCSim.Suzuka: Simulating 2 races for Suzuka 2016\n",
      "[INFO] Simulating 2 races for Suzuka 2016\n"
     ]
    },
    {
     "data": {
      "application/vnd.jupyter.widget-view+json": {
       "model_id": "4a42614fe325408e8610ef64fbda9e49",
       "version_major": 2,
       "version_minor": 0
      },
      "text/plain": [
       "Output()"
      ]
     },
     "metadata": {},
     "output_type": "display_data"
    },
    {
     "data": {
      "text/html": [
       "<pre style=\"white-space:pre;overflow-x:auto;line-height:normal;font-family:Menlo,'DejaVu Sans Mono',consolas,'Courier New',monospace\">[INFO] Race simulation for Suzuka in 2016 completed.\n",
       "</pre>\n"
      ],
      "text/plain": [
       "[INFO] Race simulation for Suzuka in 2016 completed.\n"
      ]
     },
     "metadata": {},
     "output_type": "display_data"
    },
    {
     "name": "stderr",
     "output_type": "stream",
     "text": [
      "[INFO] Race simulation for Suzuka in 2016 completed.\n"
     ]
    },
    {
     "data": {
      "text/html": [
       "<pre style=\"white-space:pre;overflow-x:auto;line-height:normal;font-family:Menlo,'DejaVu Sans Mono',consolas,'Courier New',monospace\">[INFO] Race simulation for Suzuka in 2016 completed.\n",
       "</pre>\n"
      ],
      "text/plain": [
       "[INFO] Race simulation for Suzuka in 2016 completed.\n"
      ]
     },
     "metadata": {},
     "output_type": "display_data"
    },
    {
     "name": "stderr",
     "output_type": "stream",
     "text": [
      "[INFO] Race simulation for Suzuka in 2016 completed.\n"
     ]
    },
    {
     "data": {
      "text/html": [
       "<pre style=\"white-space:pre;overflow-x:auto;line-height:normal;font-family:Menlo,'DejaVu Sans Mono',consolas,'Courier New',monospace\"></pre>\n"
      ],
      "text/plain": []
     },
     "metadata": {},
     "output_type": "display_data"
    },
    {
     "data": {
      "text/html": [
       "<pre style=\"white-space:pre;overflow-x:auto;line-height:normal;font-family:Menlo,'DejaVu Sans Mono',consolas,'Courier New',monospace\">\n",
       "</pre>\n"
      ],
      "text/plain": [
       "\n"
      ]
     },
     "metadata": {},
     "output_type": "display_data"
    },
    {
     "name": "stderr",
     "output_type": "stream",
     "text": [
      "[INFO] MCSim.Suzuka: Simulations completed.\n",
      "[INFO] Simulations completed.\n",
      "[INFO] MCSim.Suzuka: Comparison DataFrame is ready.\n",
      "[INFO] Comparison DataFrame is ready.\n"
     ]
    },
    {
     "name": "stdout",
     "output_type": "stream",
     "text": [
      "============================================================\n",
      "Running simulation for: MexicoCity\n",
      "============================================================\n"
     ]
    },
    {
     "name": "stderr",
     "output_type": "stream",
     "text": [
      "[INFO] MCSim.MexicoCity: Simulating 2 races for MexicoCity 2016\n",
      "[INFO] Simulating 2 races for MexicoCity 2016\n"
     ]
    },
    {
     "data": {
      "application/vnd.jupyter.widget-view+json": {
       "model_id": "0635371527a046a5a7a471ebe9e29c61",
       "version_major": 2,
       "version_minor": 0
      },
      "text/plain": [
       "Output()"
      ]
     },
     "metadata": {},
     "output_type": "display_data"
    },
    {
     "data": {
      "text/html": [
       "<pre style=\"white-space:pre;overflow-x:auto;line-height:normal;font-family:Menlo,'DejaVu Sans Mono',consolas,'Courier New',monospace\">[INFO] Race simulation for MexicoCity in 2016 completed.\n",
       "</pre>\n"
      ],
      "text/plain": [
       "[INFO] Race simulation for MexicoCity in 2016 completed.\n"
      ]
     },
     "metadata": {},
     "output_type": "display_data"
    },
    {
     "name": "stderr",
     "output_type": "stream",
     "text": [
      "[INFO] Race simulation for MexicoCity in 2016 completed.\n"
     ]
    },
    {
     "data": {
      "text/html": [
       "<pre style=\"white-space:pre;overflow-x:auto;line-height:normal;font-family:Menlo,'DejaVu Sans Mono',consolas,'Courier New',monospace\">[INFO] Race simulation for MexicoCity in 2016 completed.\n",
       "</pre>\n"
      ],
      "text/plain": [
       "[INFO] Race simulation for MexicoCity in 2016 completed.\n"
      ]
     },
     "metadata": {},
     "output_type": "display_data"
    },
    {
     "data": {
      "text/html": [
       "<pre style=\"white-space:pre;overflow-x:auto;line-height:normal;font-family:Menlo,'DejaVu Sans Mono',consolas,'Courier New',monospace\"></pre>\n"
      ],
      "text/plain": []
     },
     "metadata": {},
     "output_type": "display_data"
    },
    {
     "data": {
      "text/html": [
       "<pre style=\"white-space:pre;overflow-x:auto;line-height:normal;font-family:Menlo,'DejaVu Sans Mono',consolas,'Courier New',monospace\">\n",
       "</pre>\n"
      ],
      "text/plain": [
       "\n"
      ]
     },
     "metadata": {},
     "output_type": "display_data"
    },
    {
     "name": "stderr",
     "output_type": "stream",
     "text": [
      "[INFO] MCSim.MexicoCity: Simulations completed.\n",
      "[INFO] Simulations completed.\n",
      "[INFO] MCSim.MexicoCity: Comparison DataFrame is ready.\n",
      "[INFO] Comparison DataFrame is ready.\n"
     ]
    },
    {
     "name": "stdout",
     "output_type": "stream",
     "text": [
      "============================================================\n",
      "Running simulation for: YasMarina\n",
      "============================================================\n"
     ]
    },
    {
     "name": "stderr",
     "output_type": "stream",
     "text": [
      "[INFO] MCSim.YasMarina: Simulating 2 races for YasMarina 2016\n",
      "[INFO] Simulating 2 races for YasMarina 2016\n"
     ]
    },
    {
     "data": {
      "application/vnd.jupyter.widget-view+json": {
       "model_id": "28cf826b87c84025ac189bfeea6e41d6",
       "version_major": 2,
       "version_minor": 0
      },
      "text/plain": [
       "Output()"
      ]
     },
     "metadata": {},
     "output_type": "display_data"
    },
    {
     "data": {
      "text/html": [
       "<pre style=\"white-space:pre;overflow-x:auto;line-height:normal;font-family:Menlo,'DejaVu Sans Mono',consolas,'Courier New',monospace\">[INFO] Race simulation for YasMarina in 2016 completed.\n",
       "</pre>\n"
      ],
      "text/plain": [
       "[INFO] Race simulation for YasMarina in 2016 completed.\n"
      ]
     },
     "metadata": {},
     "output_type": "display_data"
    },
    {
     "name": "stderr",
     "output_type": "stream",
     "text": [
      "[INFO] Race simulation for YasMarina in 2016 completed.\n"
     ]
    },
    {
     "data": {
      "text/html": [
       "<pre style=\"white-space:pre;overflow-x:auto;line-height:normal;font-family:Menlo,'DejaVu Sans Mono',consolas,'Courier New',monospace\">[INFO] Race simulation for YasMarina in 2016 completed.\n",
       "</pre>\n"
      ],
      "text/plain": [
       "[INFO] Race simulation for YasMarina in 2016 completed.\n"
      ]
     },
     "metadata": {},
     "output_type": "display_data"
    },
    {
     "name": "stderr",
     "output_type": "stream",
     "text": [
      "[INFO] Race simulation for YasMarina in 2016 completed.\n"
     ]
    },
    {
     "data": {
      "text/html": [
       "<pre style=\"white-space:pre;overflow-x:auto;line-height:normal;font-family:Menlo,'DejaVu Sans Mono',consolas,'Courier New',monospace\"></pre>\n"
      ],
      "text/plain": []
     },
     "metadata": {},
     "output_type": "display_data"
    },
    {
     "data": {
      "text/html": [
       "<pre style=\"white-space:pre;overflow-x:auto;line-height:normal;font-family:Menlo,'DejaVu Sans Mono',consolas,'Courier New',monospace\">\n",
       "</pre>\n"
      ],
      "text/plain": [
       "\n"
      ]
     },
     "metadata": {},
     "output_type": "display_data"
    },
    {
     "name": "stderr",
     "output_type": "stream",
     "text": [
      "[INFO] MCSim.YasMarina: Simulations completed.\n",
      "[INFO] Simulations completed.\n",
      "[INFO] MCSim.YasMarina: Comparison DataFrame is ready.\n",
      "[INFO] Comparison DataFrame is ready.\n"
     ]
    }
   ],
   "source": [
    "# === Dictionary to store simulators by name ===\n",
    "Deterministic_simulators = {}\n",
    "\n",
    "# === Loop through each GP ===\n",
    "for gp_name, cfg in GP_CONFIGS.items():\n",
    "    print(\"=\"*60)\n",
    "    print(f\"Running simulation for: {gp_name}\")\n",
    "    print(\"=\"*60)\n",
    "\n",
    "    # Load strategy\n",
    "    strategy_path = f\"../data/{cfg['strategy_file']}\"\n",
    "    with open(strategy_path, \"rb\") as f:\n",
    "        driver_strategies = pickle.load(f)\n",
    "\n",
    "    # Instantiate simulator\n",
    "    sim = MonteCarloSimulator(\n",
    "        season=SEASON,\n",
    "        gp_location=gp_name,\n",
    "        db_path=DB_PATH,\n",
    "        driver_strategies=driver_strategies,\n",
    "        num_simulations=NUM_SIMULATIONS,\n",
    "        test_mode=True,\n",
    "        starting_grid=None,\n",
    "        verbose=True,\n",
    "    )\n",
    "    sim.run_simulation()\n",
    "    stats = sim.summarize()\n",
    "\n",
    "    Deterministic_simulators[cfg[\"var_name\"]] = sim\n"
   ]
  },
  {
   "cell_type": "code",
   "execution_count": null,
   "metadata": {},
   "outputs": [],
   "source": []
  },
  {
   "cell_type": "code",
   "execution_count": 6,
   "metadata": {},
   "outputs": [
    {
     "data": {
      "text/html": [
       "<div>\n",
       "<style scoped>\n",
       "    .dataframe tbody tr th:only-of-type {\n",
       "        vertical-align: middle;\n",
       "    }\n",
       "\n",
       "    .dataframe tbody tr th {\n",
       "        vertical-align: top;\n",
       "    }\n",
       "\n",
       "    .dataframe thead th {\n",
       "        text-align: right;\n",
       "    }\n",
       "</style>\n",
       "<table border=\"1\" class=\"dataframe\">\n",
       "  <thead>\n",
       "    <tr style=\"text-align: right;\">\n",
       "      <th></th>\n",
       "      <th>driver_id</th>\n",
       "      <th>final_position_sim</th>\n",
       "      <th>cumulative_time_sim</th>\n",
       "      <th>final_position_actual</th>\n",
       "      <th>cumulative_time_actual</th>\n",
       "    </tr>\n",
       "  </thead>\n",
       "  <tbody>\n",
       "    <tr>\n",
       "      <th>0</th>\n",
       "      <td>12</td>\n",
       "      <td>1.0</td>\n",
       "      <td>5718.725865</td>\n",
       "      <td>3</td>\n",
       "      <td>5884.856</td>\n",
       "    </tr>\n",
       "    <tr>\n",
       "      <th>1</th>\n",
       "      <td>31</td>\n",
       "      <td>2.0</td>\n",
       "      <td>5767.525409</td>\n",
       "      <td>14</td>\n",
       "      <td>5920.779</td>\n",
       "    </tr>\n",
       "    <tr>\n",
       "      <th>2</th>\n",
       "      <td>1</td>\n",
       "      <td>3.0</td>\n",
       "      <td>5790.185188</td>\n",
       "      <td>1</td>\n",
       "      <td>5884.013</td>\n",
       "    </tr>\n",
       "    <tr>\n",
       "      <th>3</th>\n",
       "      <td>27</td>\n",
       "      <td>4.0</td>\n",
       "      <td>5807.977829</td>\n",
       "      <td>4</td>\n",
       "      <td>5885.698</td>\n",
       "    </tr>\n",
       "    <tr>\n",
       "      <th>4</th>\n",
       "      <td>9</td>\n",
       "      <td>5.0</td>\n",
       "      <td>5813.403608</td>\n",
       "      <td>9</td>\n",
       "      <td>5943.449</td>\n",
       "    </tr>\n",
       "    <tr>\n",
       "      <th>5</th>\n",
       "      <td>5</td>\n",
       "      <td>7.0</td>\n",
       "      <td>5832.587290</td>\n",
       "      <td>10</td>\n",
       "      <td>5943.909</td>\n",
       "    </tr>\n",
       "    <tr>\n",
       "      <th>6</th>\n",
       "      <td>19</td>\n",
       "      <td>7.5</td>\n",
       "      <td>5837.793317</td>\n",
       "      <td>15</td>\n",
       "      <td>5921.672</td>\n",
       "    </tr>\n",
       "    <tr>\n",
       "      <th>7</th>\n",
       "      <td>11</td>\n",
       "      <td>9.0</td>\n",
       "      <td>5846.359145</td>\n",
       "      <td>6</td>\n",
       "      <td>5902.829</td>\n",
       "    </tr>\n",
       "    <tr>\n",
       "      <th>8</th>\n",
       "      <td>30</td>\n",
       "      <td>9.0</td>\n",
       "      <td>5838.195747</td>\n",
       "      <td>17</td>\n",
       "      <td>5930.205</td>\n",
       "    </tr>\n",
       "    <tr>\n",
       "      <th>9</th>\n",
       "      <td>3</td>\n",
       "      <td>9.0</td>\n",
       "      <td>5847.684569</td>\n",
       "      <td>2</td>\n",
       "      <td>5884.452</td>\n",
       "    </tr>\n",
       "    <tr>\n",
       "      <th>10</th>\n",
       "      <td>34</td>\n",
       "      <td>11.0</td>\n",
       "      <td>5852.066984</td>\n",
       "      <td>13</td>\n",
       "      <td>5914.474</td>\n",
       "    </tr>\n",
       "    <tr>\n",
       "      <th>11</th>\n",
       "      <td>2</td>\n",
       "      <td>11.5</td>\n",
       "      <td>5874.497439</td>\n",
       "      <td>5</td>\n",
       "      <td>5889.328</td>\n",
       "    </tr>\n",
       "    <tr>\n",
       "      <th>12</th>\n",
       "      <td>7</td>\n",
       "      <td>12.5</td>\n",
       "      <td>5875.934255</td>\n",
       "      <td>7</td>\n",
       "      <td>5934.127</td>\n",
       "    </tr>\n",
       "    <tr>\n",
       "      <th>13</th>\n",
       "      <td>20</td>\n",
       "      <td>13.5</td>\n",
       "      <td>5896.769923</td>\n",
       "      <td>12</td>\n",
       "      <td>5979.126</td>\n",
       "    </tr>\n",
       "    <tr>\n",
       "      <th>14</th>\n",
       "      <td>26</td>\n",
       "      <td>15.0</td>\n",
       "      <td>5906.204367</td>\n",
       "      <td>16</td>\n",
       "      <td>5927.042</td>\n",
       "    </tr>\n",
       "    <tr>\n",
       "      <th>15</th>\n",
       "      <td>22</td>\n",
       "      <td>16.0</td>\n",
       "      <td>5919.294853</td>\n",
       "      <td>11</td>\n",
       "      <td>5960.790</td>\n",
       "    </tr>\n",
       "    <tr>\n",
       "      <th>16</th>\n",
       "      <td>16</td>\n",
       "      <td>17.0</td>\n",
       "      <td>5952.882992</td>\n",
       "      <td>8</td>\n",
       "      <td>5942.789</td>\n",
       "    </tr>\n",
       "    <tr>\n",
       "      <th>17</th>\n",
       "      <td>25</td>\n",
       "      <td>18.0</td>\n",
       "      <td>4411.958806</td>\n",
       "      <td>18</td>\n",
       "      <td>4522.129</td>\n",
       "    </tr>\n",
       "    <tr>\n",
       "      <th>18</th>\n",
       "      <td>8</td>\n",
       "      <td>19.0</td>\n",
       "      <td>1438.101529</td>\n",
       "      <td>19</td>\n",
       "      <td>1562.917</td>\n",
       "    </tr>\n",
       "    <tr>\n",
       "      <th>19</th>\n",
       "      <td>10</td>\n",
       "      <td>20.0</td>\n",
       "      <td>1191.099718</td>\n",
       "      <td>20</td>\n",
       "      <td>1362.839</td>\n",
       "    </tr>\n",
       "    <tr>\n",
       "      <th>20</th>\n",
       "      <td>15</td>\n",
       "      <td>21.0</td>\n",
       "      <td>538.579908</td>\n",
       "      <td>21</td>\n",
       "      <td>663.071</td>\n",
       "    </tr>\n",
       "    <tr>\n",
       "      <th>21</th>\n",
       "      <td>4</td>\n",
       "      <td>22.0</td>\n",
       "      <td>453.278256</td>\n",
       "      <td>22</td>\n",
       "      <td>587.308</td>\n",
       "    </tr>\n",
       "  </tbody>\n",
       "</table>\n",
       "</div>"
      ],
      "text/plain": [
       "    driver_id  final_position_sim  cumulative_time_sim  final_position_actual  \\\n",
       "0          12                 1.0          5718.725865                      3   \n",
       "1          31                 2.0          5767.525409                     14   \n",
       "2           1                 3.0          5790.185188                      1   \n",
       "3          27                 4.0          5807.977829                      4   \n",
       "4           9                 5.0          5813.403608                      9   \n",
       "5           5                 7.0          5832.587290                     10   \n",
       "6          19                 7.5          5837.793317                     15   \n",
       "7          11                 9.0          5846.359145                      6   \n",
       "8          30                 9.0          5838.195747                     17   \n",
       "9           3                 9.0          5847.684569                      2   \n",
       "10         34                11.0          5852.066984                     13   \n",
       "11          2                11.5          5874.497439                      5   \n",
       "12          7                12.5          5875.934255                      7   \n",
       "13         20                13.5          5896.769923                     12   \n",
       "14         26                15.0          5906.204367                     16   \n",
       "15         22                16.0          5919.294853                     11   \n",
       "16         16                17.0          5952.882992                      8   \n",
       "17         25                18.0          4411.958806                     18   \n",
       "18          8                19.0          1438.101529                     19   \n",
       "19         10                20.0          1191.099718                     20   \n",
       "20         15                21.0           538.579908                     21   \n",
       "21          4                22.0           453.278256                     22   \n",
       "\n",
       "    cumulative_time_actual  \n",
       "0                 5884.856  \n",
       "1                 5920.779  \n",
       "2                 5884.013  \n",
       "3                 5885.698  \n",
       "4                 5943.449  \n",
       "5                 5943.909  \n",
       "6                 5921.672  \n",
       "7                 5902.829  \n",
       "8                 5930.205  \n",
       "9                 5884.452  \n",
       "10                5914.474  \n",
       "11                5889.328  \n",
       "12                5934.127  \n",
       "13                5979.126  \n",
       "14                5927.042  \n",
       "15                5960.790  \n",
       "16                5942.789  \n",
       "17                4522.129  \n",
       "18                1562.917  \n",
       "19                1362.839  \n",
       "20                 663.071  \n",
       "21                 587.308  "
      ]
     },
     "execution_count": 6,
     "metadata": {},
     "output_type": "execute_result"
    }
   ],
   "source": [
    "Deterministic_simulators[\"simulator_yasmarina\"].comparison_df\n"
   ]
  },
  {
   "cell_type": "code",
   "execution_count": null,
   "metadata": {},
   "outputs": [],
   "source": []
  },
  {
   "cell_type": "code",
   "execution_count": 7,
   "metadata": {},
   "outputs": [
    {
     "data": {
      "text/html": [
       "<div>\n",
       "<style scoped>\n",
       "    .dataframe tbody tr th:only-of-type {\n",
       "        vertical-align: middle;\n",
       "    }\n",
       "\n",
       "    .dataframe tbody tr th {\n",
       "        vertical-align: top;\n",
       "    }\n",
       "\n",
       "    .dataframe thead th {\n",
       "        text-align: right;\n",
       "    }\n",
       "</style>\n",
       "<table border=\"1\" class=\"dataframe\">\n",
       "  <thead>\n",
       "    <tr style=\"text-align: right;\">\n",
       "      <th></th>\n",
       "      <th>driver_id</th>\n",
       "      <th>final_position_sim</th>\n",
       "      <th>cumulative_time_sim</th>\n",
       "      <th>final_position_actual</th>\n",
       "      <th>cumulative_time_actual</th>\n",
       "    </tr>\n",
       "  </thead>\n",
       "  <tbody>\n",
       "    <tr>\n",
       "      <th>3</th>\n",
       "      <td>1</td>\n",
       "      <td>4.0</td>\n",
       "      <td>6053.890407</td>\n",
       "      <td>1</td>\n",
       "      <td>6031.402</td>\n",
       "    </tr>\n",
       "    <tr>\n",
       "      <th>1</th>\n",
       "      <td>3</td>\n",
       "      <td>2.0</td>\n",
       "      <td>6021.909714</td>\n",
       "      <td>2</td>\n",
       "      <td>6039.756</td>\n",
       "    </tr>\n",
       "    <tr>\n",
       "      <th>13</th>\n",
       "      <td>2</td>\n",
       "      <td>14.5</td>\n",
       "      <td>6219.280455</td>\n",
       "      <td>3</td>\n",
       "      <td>6052.260</td>\n",
       "    </tr>\n",
       "    <tr>\n",
       "      <th>2</th>\n",
       "      <td>27</td>\n",
       "      <td>3.0</td>\n",
       "      <td>6034.880622</td>\n",
       "      <td>4</td>\n",
       "      <td>6047.725</td>\n",
       "    </tr>\n",
       "    <tr>\n",
       "      <th>9</th>\n",
       "      <td>12</td>\n",
       "      <td>10.0</td>\n",
       "      <td>6125.033145</td>\n",
       "      <td>5</td>\n",
       "      <td>6048.715</td>\n",
       "    </tr>\n",
       "    <tr>\n",
       "      <th>10</th>\n",
       "      <td>11</td>\n",
       "      <td>11.0</td>\n",
       "      <td>6162.650602</td>\n",
       "      <td>6</td>\n",
       "      <td>6080.778</td>\n",
       "    </tr>\n",
       "    <tr>\n",
       "      <th>6</th>\n",
       "      <td>7</td>\n",
       "      <td>6.5</td>\n",
       "      <td>6086.894768</td>\n",
       "      <td>7</td>\n",
       "      <td>6090.293</td>\n",
       "    </tr>\n",
       "    <tr>\n",
       "      <th>0</th>\n",
       "      <td>15</td>\n",
       "      <td>1.0</td>\n",
       "      <td>5779.162099</td>\n",
       "      <td>8</td>\n",
       "      <td>6097.014</td>\n",
       "    </tr>\n",
       "    <tr>\n",
       "      <th>8</th>\n",
       "      <td>9</td>\n",
       "      <td>9.0</td>\n",
       "      <td>6113.869956</td>\n",
       "      <td>9</td>\n",
       "      <td>6107.608</td>\n",
       "    </tr>\n",
       "    <tr>\n",
       "      <th>12</th>\n",
       "      <td>16</td>\n",
       "      <td>13.0</td>\n",
       "      <td>6201.202384</td>\n",
       "      <td>10</td>\n",
       "      <td>6108.200</td>\n",
       "    </tr>\n",
       "    <tr>\n",
       "      <th>5</th>\n",
       "      <td>19</td>\n",
       "      <td>6.5</td>\n",
       "      <td>6080.456539</td>\n",
       "      <td>11</td>\n",
       "      <td>6066.179</td>\n",
       "    </tr>\n",
       "    <tr>\n",
       "      <th>7</th>\n",
       "      <td>10</td>\n",
       "      <td>8.0</td>\n",
       "      <td>6097.052158</td>\n",
       "      <td>12</td>\n",
       "      <td>6072.962</td>\n",
       "    </tr>\n",
       "    <tr>\n",
       "      <th>15</th>\n",
       "      <td>5</td>\n",
       "      <td>16.0</td>\n",
       "      <td>6232.414335</td>\n",
       "      <td>13</td>\n",
       "      <td>6081.399</td>\n",
       "    </tr>\n",
       "    <tr>\n",
       "      <th>16</th>\n",
       "      <td>30</td>\n",
       "      <td>17.0</td>\n",
       "      <td>6253.913791</td>\n",
       "      <td>14</td>\n",
       "      <td>6087.597</td>\n",
       "    </tr>\n",
       "    <tr>\n",
       "      <th>19</th>\n",
       "      <td>26</td>\n",
       "      <td>19.5</td>\n",
       "      <td>6390.327360</td>\n",
       "      <td>15</td>\n",
       "      <td>6095.456</td>\n",
       "    </tr>\n",
       "    <tr>\n",
       "      <th>14</th>\n",
       "      <td>25</td>\n",
       "      <td>14.5</td>\n",
       "      <td>6219.857867</td>\n",
       "      <td>16</td>\n",
       "      <td>6092.263</td>\n",
       "    </tr>\n",
       "    <tr>\n",
       "      <th>4</th>\n",
       "      <td>4</td>\n",
       "      <td>5.0</td>\n",
       "      <td>6056.945997</td>\n",
       "      <td>17</td>\n",
       "      <td>6101.268</td>\n",
       "    </tr>\n",
       "    <tr>\n",
       "      <th>11</th>\n",
       "      <td>8</td>\n",
       "      <td>12.0</td>\n",
       "      <td>6177.607358</td>\n",
       "      <td>18</td>\n",
       "      <td>6096.274</td>\n",
       "    </tr>\n",
       "    <tr>\n",
       "      <th>18</th>\n",
       "      <td>20</td>\n",
       "      <td>19.0</td>\n",
       "      <td>6383.447338</td>\n",
       "      <td>19</td>\n",
       "      <td>6101.934</td>\n",
       "    </tr>\n",
       "    <tr>\n",
       "      <th>17</th>\n",
       "      <td>22</td>\n",
       "      <td>18.5</td>\n",
       "      <td>6313.563701</td>\n",
       "      <td>20</td>\n",
       "      <td>6110.937</td>\n",
       "    </tr>\n",
       "    <tr>\n",
       "      <th>21</th>\n",
       "      <td>34</td>\n",
       "      <td>22.0</td>\n",
       "      <td>5764.429378</td>\n",
       "      <td>21</td>\n",
       "      <td>6061.123</td>\n",
       "    </tr>\n",
       "    <tr>\n",
       "      <th>20</th>\n",
       "      <td>31</td>\n",
       "      <td>21.0</td>\n",
       "      <td>4.000000</td>\n",
       "      <td>22</td>\n",
       "      <td>0.000</td>\n",
       "    </tr>\n",
       "  </tbody>\n",
       "</table>\n",
       "</div>"
      ],
      "text/plain": [
       "    driver_id  final_position_sim  cumulative_time_sim  final_position_actual  \\\n",
       "3           1                 4.0          6053.890407                      1   \n",
       "1           3                 2.0          6021.909714                      2   \n",
       "13          2                14.5          6219.280455                      3   \n",
       "2          27                 3.0          6034.880622                      4   \n",
       "9          12                10.0          6125.033145                      5   \n",
       "10         11                11.0          6162.650602                      6   \n",
       "6           7                 6.5          6086.894768                      7   \n",
       "0          15                 1.0          5779.162099                      8   \n",
       "8           9                 9.0          6113.869956                      9   \n",
       "12         16                13.0          6201.202384                     10   \n",
       "5          19                 6.5          6080.456539                     11   \n",
       "7          10                 8.0          6097.052158                     12   \n",
       "15          5                16.0          6232.414335                     13   \n",
       "16         30                17.0          6253.913791                     14   \n",
       "19         26                19.5          6390.327360                     15   \n",
       "14         25                14.5          6219.857867                     16   \n",
       "4           4                 5.0          6056.945997                     17   \n",
       "11          8                12.0          6177.607358                     18   \n",
       "18         20                19.0          6383.447338                     19   \n",
       "17         22                18.5          6313.563701                     20   \n",
       "21         34                22.0          5764.429378                     21   \n",
       "20         31                21.0             4.000000                     22   \n",
       "\n",
       "    cumulative_time_actual  \n",
       "3                 6031.402  \n",
       "1                 6039.756  \n",
       "13                6052.260  \n",
       "2                 6047.725  \n",
       "9                 6048.715  \n",
       "10                6080.778  \n",
       "6                 6090.293  \n",
       "0                 6097.014  \n",
       "8                 6107.608  \n",
       "12                6108.200  \n",
       "5                 6066.179  \n",
       "7                 6072.962  \n",
       "15                6081.399  \n",
       "16                6087.597  \n",
       "19                6095.456  \n",
       "14                6092.263  \n",
       "4                 6101.268  \n",
       "11                6096.274  \n",
       "18                6101.934  \n",
       "17                6110.937  \n",
       "21                6061.123  \n",
       "20                   0.000  "
      ]
     },
     "execution_count": 7,
     "metadata": {},
     "output_type": "execute_result"
    }
   ],
   "source": [
    "Deterministic_simulators[\"simulator_mexico\"].comparison_df.sort_values(by=\"final_position_actual\", ascending=True)"
   ]
  },
  {
   "cell_type": "code",
   "execution_count": null,
   "metadata": {},
   "outputs": [],
   "source": []
  },
  {
   "cell_type": "code",
   "execution_count": 8,
   "metadata": {},
   "outputs": [
    {
     "data": {
      "text/html": [
       "<div>\n",
       "<style scoped>\n",
       "    .dataframe tbody tr th:only-of-type {\n",
       "        vertical-align: middle;\n",
       "    }\n",
       "\n",
       "    .dataframe tbody tr th {\n",
       "        vertical-align: top;\n",
       "    }\n",
       "\n",
       "    .dataframe thead th {\n",
       "        text-align: right;\n",
       "    }\n",
       "</style>\n",
       "<table border=\"1\" class=\"dataframe\">\n",
       "  <thead>\n",
       "    <tr style=\"text-align: right;\">\n",
       "      <th></th>\n",
       "      <th>driver_id</th>\n",
       "      <th>final_position_sim</th>\n",
       "      <th>cumulative_time_sim</th>\n",
       "      <th>final_position_actual</th>\n",
       "      <th>cumulative_time_actual</th>\n",
       "    </tr>\n",
       "  </thead>\n",
       "  <tbody>\n",
       "    <tr>\n",
       "      <th>7</th>\n",
       "      <td>3</td>\n",
       "      <td>8.0</td>\n",
       "      <td>5202.642546</td>\n",
       "      <td>1</td>\n",
       "      <td>5203.333</td>\n",
       "    </tr>\n",
       "    <tr>\n",
       "      <th>13</th>\n",
       "      <td>27</td>\n",
       "      <td>13.5</td>\n",
       "      <td>5254.017644</td>\n",
       "      <td>2</td>\n",
       "      <td>5208.311</td>\n",
       "    </tr>\n",
       "    <tr>\n",
       "      <th>8</th>\n",
       "      <td>1</td>\n",
       "      <td>9.5</td>\n",
       "      <td>5210.571521</td>\n",
       "      <td>3</td>\n",
       "      <td>5209.109</td>\n",
       "    </tr>\n",
       "    <tr>\n",
       "      <th>4</th>\n",
       "      <td>12</td>\n",
       "      <td>5.0</td>\n",
       "      <td>5195.455070</td>\n",
       "      <td>4</td>\n",
       "      <td>5223.602</td>\n",
       "    </tr>\n",
       "    <tr>\n",
       "      <th>10</th>\n",
       "      <td>11</td>\n",
       "      <td>10.5</td>\n",
       "      <td>5227.268718</td>\n",
       "      <td>5</td>\n",
       "      <td>5231.703</td>\n",
       "    </tr>\n",
       "    <tr>\n",
       "      <th>11</th>\n",
       "      <td>2</td>\n",
       "      <td>12.0</td>\n",
       "      <td>5232.934423</td>\n",
       "      <td>6</td>\n",
       "      <td>5237.274</td>\n",
       "    </tr>\n",
       "    <tr>\n",
       "      <th>14</th>\n",
       "      <td>16</td>\n",
       "      <td>14.5</td>\n",
       "      <td>5245.820375</td>\n",
       "      <td>7</td>\n",
       "      <td>5260.828</td>\n",
       "    </tr>\n",
       "    <tr>\n",
       "      <th>12</th>\n",
       "      <td>7</td>\n",
       "      <td>13.0</td>\n",
       "      <td>5235.452781</td>\n",
       "      <td>8</td>\n",
       "      <td>5262.510</td>\n",
       "    </tr>\n",
       "    <tr>\n",
       "      <th>0</th>\n",
       "      <td>9</td>\n",
       "      <td>1.0</td>\n",
       "      <td>4907.128919</td>\n",
       "      <td>9</td>\n",
       "      <td>5301.096</td>\n",
       "    </tr>\n",
       "    <tr>\n",
       "      <th>18</th>\n",
       "      <td>15</td>\n",
       "      <td>19.0</td>\n",
       "      <td>5343.927733</td>\n",
       "      <td>10</td>\n",
       "      <td>5301.656</td>\n",
       "    </tr>\n",
       "    <tr>\n",
       "      <th>3</th>\n",
       "      <td>22</td>\n",
       "      <td>5.0</td>\n",
       "      <td>5074.332392</td>\n",
       "      <td>11</td>\n",
       "      <td>5302.587</td>\n",
       "    </tr>\n",
       "    <tr>\n",
       "      <th>17</th>\n",
       "      <td>30</td>\n",
       "      <td>17.5</td>\n",
       "      <td>5331.351451</td>\n",
       "      <td>12</td>\n",
       "      <td>5219.811</td>\n",
       "    </tr>\n",
       "    <tr>\n",
       "      <th>9</th>\n",
       "      <td>8</td>\n",
       "      <td>10.0</td>\n",
       "      <td>5223.043059</td>\n",
       "      <td>13</td>\n",
       "      <td>5225.855</td>\n",
       "    </tr>\n",
       "    <tr>\n",
       "      <th>20</th>\n",
       "      <td>4</td>\n",
       "      <td>21.0</td>\n",
       "      <td>5469.795405</td>\n",
       "      <td>14</td>\n",
       "      <td>5235.522</td>\n",
       "    </tr>\n",
       "    <tr>\n",
       "      <th>19</th>\n",
       "      <td>19</td>\n",
       "      <td>20.0</td>\n",
       "      <td>5420.292562</td>\n",
       "      <td>15</td>\n",
       "      <td>5236.276</td>\n",
       "    </tr>\n",
       "    <tr>\n",
       "      <th>2</th>\n",
       "      <td>5</td>\n",
       "      <td>3.5</td>\n",
       "      <td>5190.021779</td>\n",
       "      <td>16</td>\n",
       "      <td>5238.424</td>\n",
       "    </tr>\n",
       "    <tr>\n",
       "      <th>16</th>\n",
       "      <td>25</td>\n",
       "      <td>17.0</td>\n",
       "      <td>5314.170764</td>\n",
       "      <td>17</td>\n",
       "      <td>5239.306</td>\n",
       "    </tr>\n",
       "    <tr>\n",
       "      <th>15</th>\n",
       "      <td>10</td>\n",
       "      <td>16.5</td>\n",
       "      <td>5314.863079</td>\n",
       "      <td>18</td>\n",
       "      <td>5242.778</td>\n",
       "    </tr>\n",
       "    <tr>\n",
       "      <th>21</th>\n",
       "      <td>26</td>\n",
       "      <td>22.0</td>\n",
       "      <td>5689.791240</td>\n",
       "      <td>19</td>\n",
       "      <td>5251.584</td>\n",
       "    </tr>\n",
       "    <tr>\n",
       "      <th>5</th>\n",
       "      <td>20</td>\n",
       "      <td>5.5</td>\n",
       "      <td>5196.971158</td>\n",
       "      <td>20</td>\n",
       "      <td>5254.653</td>\n",
       "    </tr>\n",
       "    <tr>\n",
       "      <th>1</th>\n",
       "      <td>34</td>\n",
       "      <td>2.5</td>\n",
       "      <td>5097.917746</td>\n",
       "      <td>21</td>\n",
       "      <td>5256.784</td>\n",
       "    </tr>\n",
       "    <tr>\n",
       "      <th>6</th>\n",
       "      <td>31</td>\n",
       "      <td>6.5</td>\n",
       "      <td>5197.078800</td>\n",
       "      <td>22</td>\n",
       "      <td>5276.644</td>\n",
       "    </tr>\n",
       "  </tbody>\n",
       "</table>\n",
       "</div>"
      ],
      "text/plain": [
       "    driver_id  final_position_sim  cumulative_time_sim  final_position_actual  \\\n",
       "7           3                 8.0          5202.642546                      1   \n",
       "13         27                13.5          5254.017644                      2   \n",
       "8           1                 9.5          5210.571521                      3   \n",
       "4          12                 5.0          5195.455070                      4   \n",
       "10         11                10.5          5227.268718                      5   \n",
       "11          2                12.0          5232.934423                      6   \n",
       "14         16                14.5          5245.820375                      7   \n",
       "12          7                13.0          5235.452781                      8   \n",
       "0           9                 1.0          4907.128919                      9   \n",
       "18         15                19.0          5343.927733                     10   \n",
       "3          22                 5.0          5074.332392                     11   \n",
       "17         30                17.5          5331.351451                     12   \n",
       "9           8                10.0          5223.043059                     13   \n",
       "20          4                21.0          5469.795405                     14   \n",
       "19         19                20.0          5420.292562                     15   \n",
       "2           5                 3.5          5190.021779                     16   \n",
       "16         25                17.0          5314.170764                     17   \n",
       "15         10                16.5          5314.863079                     18   \n",
       "21         26                22.0          5689.791240                     19   \n",
       "5          20                 5.5          5196.971158                     20   \n",
       "1          34                 2.5          5097.917746                     21   \n",
       "6          31                 6.5          5197.078800                     22   \n",
       "\n",
       "    cumulative_time_actual  \n",
       "7                 5203.333  \n",
       "13                5208.311  \n",
       "8                 5209.109  \n",
       "4                 5223.602  \n",
       "10                5231.703  \n",
       "11                5237.274  \n",
       "14                5260.828  \n",
       "12                5262.510  \n",
       "0                 5301.096  \n",
       "18                5301.656  \n",
       "3                 5302.587  \n",
       "17                5219.811  \n",
       "9                 5225.855  \n",
       "20                5235.522  \n",
       "19                5236.276  \n",
       "2                 5238.424  \n",
       "16                5239.306  \n",
       "15                5242.778  \n",
       "21                5251.584  \n",
       "5                 5254.653  \n",
       "1                 5256.784  \n",
       "6                 5276.644  "
      ]
     },
     "execution_count": 8,
     "metadata": {},
     "output_type": "execute_result"
    }
   ],
   "source": [
    "Deterministic_simulators[\"simulator_suzuka\"].comparison_df.sort_values(by=\"final_position_actual\", ascending=True)"
   ]
  }
 ],
 "metadata": {
  "kernelspec": {
   "display_name": "Python 3",
   "language": "python",
   "name": "python3"
  },
  "language_info": {
   "codemirror_mode": {
    "name": "ipython",
    "version": 3
   },
   "file_extension": ".py",
   "mimetype": "text/x-python",
   "name": "python",
   "nbconvert_exporter": "python",
   "pygments_lexer": "ipython3",
   "version": "3.11.3"
  }
 },
 "nbformat": 4,
 "nbformat_minor": 2
}
