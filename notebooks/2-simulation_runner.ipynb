{
 "cells": [
  {
   "cell_type": "markdown",
   "metadata": {},
   "source": [
    "# Simulation Runner\n",
    "This notebook runs Monte Carlo simulations using prepared strategies and shows comparison outputs.\n"
   ]
  },
  {
   "cell_type": "code",
   "execution_count": 8,
   "metadata": {},
   "outputs": [
    {
     "name": "stdout",
     "output_type": "stream",
     "text": [
      "Project root added to sys.path: c:\\Users\\mateo\\Desktop\\MCEM\\new\\Nouveau dossier\\Simulation_Project\n"
     ]
    }
   ],
   "source": [
    "import os\n",
    "import sys\n",
    "\n",
    "project_root = os.path.abspath(os.path.join(os.getcwd(), \"..\"))\n",
    "if project_root not in sys.path:\n",
    "    sys.path.insert(0, project_root)\n",
    "\n",
    "print(\"Project root added to sys.path:\", project_root)"
   ]
  },
  {
   "cell_type": "code",
   "execution_count": 9,
   "metadata": {},
   "outputs": [],
   "source": [
    "import pickle\n",
    "from monte_carlo_simulator import MonteCarloSimulator"
   ]
  },
  {
   "cell_type": "code",
   "execution_count": 4,
   "metadata": {},
   "outputs": [],
   "source": [
    "# === General configuration ===\n",
    "season = 2016\n",
    "db_path = \"../data/F1_timingdata_2014_2019.sqlite\"\n",
    "num_simulations = 2\n",
    "\n",
    "# === List of GPs with associated strategy files ===\n",
    "gp_configs = {\n",
    "    \"Austin\": {\n",
    "        \"strategy_file\": \"strategies_austin.pkl\",\n",
    "        \"var_name\": \"simulator_austin\"\n",
    "    },\n",
    "    \"Suzuka\": {\n",
    "        \"strategy_file\": \"strategies_suzuka.pkl\",\n",
    "        \"var_name\": \"simulator_suzuka\"\n",
    "    },\n",
    "    \"MexicoCity\": {\n",
    "        \"strategy_file\": \"strategies_mexico.pkl\",\n",
    "        \"var_name\": \"simulator_mexico\"\n",
    "    },\n",
    "    \"YasMarina\": {\n",
    "        \"strategy_file\": \"strategies_yasmarina.pkl\",\n",
    "        \"var_name\": \"simulator_yasmarina\"\n",
    "    }\n",
    "}"
   ]
  },
  {
   "cell_type": "code",
   "execution_count": null,
   "metadata": {},
   "outputs": [
    {
     "name": "stdout",
     "output_type": "stream",
     "text": [
      "============================================================\n",
      "🏁 Running Monte Carlo simulation for: Austin\n",
      "============================================================\n"
     ]
    },
    {
     "data": {
      "application/vnd.jupyter.widget-view+json": {
       "model_id": "168f803d9ada4861b58fa87e958f8551",
       "version_major": 2,
       "version_minor": 0
      },
      "text/plain": [
       "Output()"
      ]
     },
     "metadata": {},
     "output_type": "display_data"
    },
    {
     "data": {
      "text/html": [
       "<pre style=\"white-space:pre;overflow-x:auto;line-height:normal;font-family:Menlo,'DejaVu Sans Mono',consolas,'Courier New',monospace\">c:\\Users\\mateo\\Desktop\\MCEM\\new\\Nouveau dossier\\Simulation_Project\\run.py:71: FutureWarning: The behavior of \n",
       "DataFrame concatenation with empty or all-NA entries is deprecated. In a future version, this will no longer \n",
       "exclude empty or all-NA columns when determining the result dtypes. To retain the old behavior, exclude the \n",
       "relevant entries before the concat operation.\n",
       "  self.laps_summary = pd.concat([self.laps_summary, new_row_df.dropna(axis=1, how='all')], ignore_index=True)\n",
       "</pre>\n"
      ],
      "text/plain": [
       "c:\\Users\\mateo\\Desktop\\MCEM\\new\\Nouveau dossier\\Simulation_Project\\run.py:71: FutureWarning: The behavior of \n",
       "DataFrame concatenation with empty or all-NA entries is deprecated. In a future version, this will no longer \n",
       "exclude empty or all-NA columns when determining the result dtypes. To retain the old behavior, exclude the \n",
       "relevant entries before the concat operation.\n",
       "  self.laps_summary = pd.concat([self.laps_summary, new_row_df.dropna(axis=1, how='all')], ignore_index=True)\n"
      ]
     },
     "metadata": {},
     "output_type": "display_data"
    },
    {
     "data": {
      "text/html": [
       "<pre style=\"white-space:pre;overflow-x:auto;line-height:normal;font-family:Menlo,'DejaVu Sans Mono',consolas,'Courier New',monospace\">c:\\Users\\mateo\\Desktop\\MCEM\\new\\Nouveau dossier\\Simulation_Project\\run.py:71: FutureWarning: The behavior of \n",
       "DataFrame concatenation with empty or all-NA entries is deprecated. In a future version, this will no longer \n",
       "exclude empty or all-NA columns when determining the result dtypes. To retain the old behavior, exclude the \n",
       "relevant entries before the concat operation.\n",
       "  self.laps_summary = pd.concat([self.laps_summary, new_row_df.dropna(axis=1, how='all')], ignore_index=True)\n",
       "</pre>\n"
      ],
      "text/plain": [
       "c:\\Users\\mateo\\Desktop\\MCEM\\new\\Nouveau dossier\\Simulation_Project\\run.py:71: FutureWarning: The behavior of \n",
       "DataFrame concatenation with empty or all-NA entries is deprecated. In a future version, this will no longer \n",
       "exclude empty or all-NA columns when determining the result dtypes. To retain the old behavior, exclude the \n",
       "relevant entries before the concat operation.\n",
       "  self.laps_summary = pd.concat([self.laps_summary, new_row_df.dropna(axis=1, how='all')], ignore_index=True)\n"
      ]
     },
     "metadata": {},
     "output_type": "display_data"
    },
    {
     "data": {
      "text/html": [
       "<pre style=\"white-space:pre;overflow-x:auto;line-height:normal;font-family:Menlo,'DejaVu Sans Mono',consolas,'Courier New',monospace\"></pre>\n"
      ],
      "text/plain": []
     },
     "metadata": {},
     "output_type": "display_data"
    },
    {
     "data": {
      "text/html": [
       "<pre style=\"white-space:pre;overflow-x:auto;line-height:normal;font-family:Menlo,'DejaVu Sans Mono',consolas,'Courier New',monospace\">\n",
       "</pre>\n"
      ],
      "text/plain": [
       "\n"
      ]
     },
     "metadata": {},
     "output_type": "display_data"
    },
    {
     "name": "stdout",
     "output_type": "stream",
     "text": [
      "\n",
      "=== Wilcoxon Test for Lap Times ===\n",
      "\n",
      " Résultats du test de Wilcoxon:\n",
      "Statistique de test : 62.0\n",
      "P-value : 0.03588\n",
      " Rejet de H0 : Les temps simulés et réels diffèrent significativement.\n",
      "\n",
      "=== Spearman Rank Correlation for Positions ===\n",
      "\n",
      " Résultats du test de corrélation de Spearman:\n",
      "Coefficient de corrélation (rs) : 0.5432\n",
      "P-value : 0.00898\n",
      " Rejet de H0 : Les positions simulées et réelles sont significativement corrélées.\n",
      "Comparaison des résultats moyens issus des simulations Monte Carlo et des réels:\n",
      "    driver_id  final_position_sim  cumulative_time_sim  final_position_actual  \\\n",
      "19         30                 1.0          5699.788067                     13   \n",
      "0           1                 2.5          5716.386736                      1   \n",
      "7           9                 3.0          5733.420365                      7   \n",
      "1           2                 5.5          5790.620653                      3   \n",
      "13         19                 7.0          5800.791939                     14   \n",
      "3           4                 7.5          5853.975118                     12   \n",
      "20         31                 9.0          5834.618947                     17   \n",
      "4           5                10.0          5877.982263                      5   \n",
      "6           8                10.0          5875.180135                     11   \n",
      "15         22                10.0          5882.828712                     10   \n",
      "11         15                10.0          5872.685161                     16   \n",
      "16         25                10.5          5880.934127                      6   \n",
      "10         12                10.5          5875.488981                      4   \n",
      "2           3                10.5          6947.504649                      2   \n",
      "8          10                15.0          5950.730275                      9   \n",
      "17         26                16.0          5962.768033                     15   \n",
      "12         16                16.0          7475.928730                      8   \n",
      "21         34                17.0          6088.049551                     18   \n",
      "9          11                19.0          3818.965643                     19   \n",
      "18         27                20.0          2805.442259                     20   \n",
      "14         20                21.0          1609.794986                     21   \n",
      "5           7                22.0             0.000000                     22   \n",
      "\n",
      "    cumulative_time_actual  \n",
      "19                5953.772  \n",
      "0                 5892.618  \n",
      "7                 5899.087  \n",
      "1                 5912.310  \n",
      "13                5958.588  \n",
      "3                 5943.131  \n",
      "20                5986.822  \n",
      "4                 5986.571  \n",
      "6                 5947.442  \n",
      "15                5923.518  \n",
      "11                5985.667  \n",
      "16                5988.742  \n",
      "10                5935.752  \n",
      "2                 5897.138  \n",
      "8                 5915.617  \n",
      "17                5975.362  \n",
      "12                5913.660  \n",
      "21                5916.495  \n",
      "9                 4052.749  \n",
      "18                2968.119  \n",
      "14                1768.943  \n",
      "5                  143.182  \n"
     ]
    },
    {
     "data": {
      "image/png": "[encoded data removed]",
      "text/plain": [
       "<Figure size 1000x600 with 2 Axes>"
      ]
     },
     "metadata": {},
     "output_type": "display_data"
    },
    {
     "data": {
      "text/html": [
       "<div>\n",
       "<style scoped>\n",
       "    .dataframe tbody tr th:only-of-type {\n",
       "        vertical-align: middle;\n",
       "    }\n",
       "\n",
       "    .dataframe tbody tr th {\n",
       "        vertical-align: top;\n",
       "    }\n",
       "\n",
       "    .dataframe thead th {\n",
       "        text-align: right;\n",
       "    }\n",
       "</style>\n",
       "<table border=\"1\" class=\"dataframe\">\n",
       "  <thead>\n",
       "    <tr style=\"text-align: right;\">\n",
       "      <th></th>\n",
       "      <th>driver_id</th>\n",
       "      <th>final_position_sim</th>\n",
       "      <th>cumulative_time_sim</th>\n",
       "      <th>final_position_actual</th>\n",
       "      <th>cumulative_time_actual</th>\n",
       "    </tr>\n",
       "  </thead>\n",
       "  <tbody>\n",
       "    <tr>\n",
       "      <th>19</th>\n",
       "      <td>30</td>\n",
       "      <td>1.0</td>\n",
       "      <td>5699.788067</td>\n",
       "      <td>13</td>\n",
       "      <td>5953.772</td>\n",
       "    </tr>\n",
       "    <tr>\n",
       "      <th>0</th>\n",
       "      <td>1</td>\n",
       "      <td>2.5</td>\n",
       "      <td>5716.386736</td>\n",
       "      <td>1</td>\n",
       "      <td>5892.618</td>\n",
       "    </tr>\n",
       "    <tr>\n",
       "      <th>7</th>\n",
       "      <td>9</td>\n",
       "      <td>3.0</td>\n",
       "      <td>5733.420365</td>\n",
       "      <td>7</td>\n",
       "      <td>5899.087</td>\n",
       "    </tr>\n",
       "    <tr>\n",
       "      <th>1</th>\n",
       "      <td>2</td>\n",
       "      <td>5.5</td>\n",
       "      <td>5790.620653</td>\n",
       "      <td>3</td>\n",
       "      <td>5912.310</td>\n",
       "    </tr>\n",
       "    <tr>\n",
       "      <th>13</th>\n",
       "      <td>19</td>\n",
       "      <td>7.0</td>\n",
       "      <td>5800.791939</td>\n",
       "      <td>14</td>\n",
       "      <td>5958.588</td>\n",
       "    </tr>\n",
       "  </tbody>\n",
       "</table>\n",
       "</div>"
      ],
      "text/plain": [
       "    driver_id  final_position_sim  cumulative_time_sim  final_position_actual  \\\n",
       "19         30                 1.0          5699.788067                     13   \n",
       "0           1                 2.5          5716.386736                      1   \n",
       "7           9                 3.0          5733.420365                      7   \n",
       "1           2                 5.5          5790.620653                      3   \n",
       "13         19                 7.0          5800.791939                     14   \n",
       "\n",
       "    cumulative_time_actual  \n",
       "19                5953.772  \n",
       "0                 5892.618  \n",
       "7                 5899.087  \n",
       "1                 5912.310  \n",
       "13                5958.588  "
      ]
     },
     "metadata": {},
     "output_type": "display_data"
    },
    {
     "name": "stdout",
     "output_type": "stream",
     "text": [
      "============================================================\n",
      "🏁 Running Monte Carlo simulation for: Suzuka\n",
      "============================================================\n"
     ]
    },
    {
     "data": {
      "application/vnd.jupyter.widget-view+json": {
       "model_id": "7ad49330d3644d97bcb730107350b980",
       "version_major": 2,
       "version_minor": 0
      },
      "text/plain": [
       "Output()"
      ]
     },
     "metadata": {},
     "output_type": "display_data"
    },
    {
     "data": {
      "text/html": [
       "<pre style=\"white-space:pre;overflow-x:auto;line-height:normal;font-family:Menlo,'DejaVu Sans Mono',consolas,'Courier New',monospace\">c:\\Users\\mateo\\Desktop\\MCEM\\new\\Nouveau dossier\\Simulation_Project\\run.py:71: FutureWarning: The behavior of \n",
       "DataFrame concatenation with empty or all-NA entries is deprecated. In a future version, this will no longer \n",
       "exclude empty or all-NA columns when determining the result dtypes. To retain the old behavior, exclude the \n",
       "relevant entries before the concat operation.\n",
       "  self.laps_summary = pd.concat([self.laps_summary, new_row_df.dropna(axis=1, how='all')], ignore_index=True)\n",
       "</pre>\n"
      ],
      "text/plain": [
       "c:\\Users\\mateo\\Desktop\\MCEM\\new\\Nouveau dossier\\Simulation_Project\\run.py:71: FutureWarning: The behavior of \n",
       "DataFrame concatenation with empty or all-NA entries is deprecated. In a future version, this will no longer \n",
       "exclude empty or all-NA columns when determining the result dtypes. To retain the old behavior, exclude the \n",
       "relevant entries before the concat operation.\n",
       "  self.laps_summary = pd.concat([self.laps_summary, new_row_df.dropna(axis=1, how='all')], ignore_index=True)\n"
      ]
     },
     "metadata": {},
     "output_type": "display_data"
    },
    {
     "data": {
      "text/html": [
       "<pre style=\"white-space:pre;overflow-x:auto;line-height:normal;font-family:Menlo,'DejaVu Sans Mono',consolas,'Courier New',monospace\">c:\\Users\\mateo\\Desktop\\MCEM\\new\\Nouveau dossier\\Simulation_Project\\run.py:71: FutureWarning: The behavior of \n",
       "DataFrame concatenation with empty or all-NA entries is deprecated. In a future version, this will no longer \n",
       "exclude empty or all-NA columns when determining the result dtypes. To retain the old behavior, exclude the \n",
       "relevant entries before the concat operation.\n",
       "  self.laps_summary = pd.concat([self.laps_summary, new_row_df.dropna(axis=1, how='all')], ignore_index=True)\n",
       "</pre>\n"
      ],
      "text/plain": [
       "c:\\Users\\mateo\\Desktop\\MCEM\\new\\Nouveau dossier\\Simulation_Project\\run.py:71: FutureWarning: The behavior of \n",
       "DataFrame concatenation with empty or all-NA entries is deprecated. In a future version, this will no longer \n",
       "exclude empty or all-NA columns when determining the result dtypes. To retain the old behavior, exclude the \n",
       "relevant entries before the concat operation.\n",
       "  self.laps_summary = pd.concat([self.laps_summary, new_row_df.dropna(axis=1, how='all')], ignore_index=True)\n"
      ]
     },
     "metadata": {},
     "output_type": "display_data"
    },
    {
     "data": {
      "text/html": [
       "<pre style=\"white-space:pre;overflow-x:auto;line-height:normal;font-family:Menlo,'DejaVu Sans Mono',consolas,'Courier New',monospace\"></pre>\n"
      ],
      "text/plain": []
     },
     "metadata": {},
     "output_type": "display_data"
    },
    {
     "data": {
      "text/html": [
       "<pre style=\"white-space:pre;overflow-x:auto;line-height:normal;font-family:Menlo,'DejaVu Sans Mono',consolas,'Courier New',monospace\">\n",
       "</pre>\n"
      ],
      "text/plain": [
       "\n"
      ]
     },
     "metadata": {},
     "output_type": "display_data"
    },
    {
     "name": "stdout",
     "output_type": "stream",
     "text": [
      "\n",
      "=== Wilcoxon Test for Lap Times ===\n",
      "\n",
      " Résultats du test de Wilcoxon:\n",
      "Statistique de test : 55.0\n",
      "P-value : 0.01896\n",
      " Rejet de H0 : Les temps simulés et réels diffèrent significativement.\n",
      "\n",
      "=== Spearman Rank Correlation for Positions ===\n",
      "\n",
      " Résultats du test de corrélation de Spearman:\n",
      "Coefficient de corrélation (rs) : 0.4009\n",
      "P-value : 0.06445\n",
      " Non-rejet de H0 : Aucune corrélation significative entre les positions simulées et réelles.\n",
      "Comparaison des résultats moyens issus des simulations Monte Carlo et des réels:\n",
      "    driver_id  final_position_sim  cumulative_time_sim  final_position_actual  \\\n",
      "7           9                 1.0          4919.203989                      9   \n",
      "18         27                 2.5          5149.289655                      2   \n",
      "2           3                 4.0          5194.195078                      1   \n",
      "20         31                 6.0          5211.857394                     22   \n",
      "19         30                 7.5          5228.975381                     12   \n",
      "3           4                 7.5          5231.185470                     14   \n",
      "0           1                 8.5          5243.863155                      3   \n",
      "16         25                 9.5          5256.447557                     17   \n",
      "10         12                 9.5          5253.516492                      4   \n",
      "8          10                11.5          5274.764791                     18   \n",
      "9          11                12.0          5949.750316                      5   \n",
      "1           2                12.0          5283.593873                      6   \n",
      "6           8                12.5          5279.653257                     13   \n",
      "5           7                12.5          5282.650727                      8   \n",
      "4           5                13.0          5457.081673                     16   \n",
      "12         16                15.5          5316.603799                      7   \n",
      "14         20                15.5          5317.335954                     20   \n",
      "11         15                16.0          5307.705946                     10   \n",
      "15         22                17.0          5357.863077                     11   \n",
      "21         34                18.5          5358.609621                     21   \n",
      "13         19                20.0          5408.646692                     15   \n",
      "17         26                21.0          5523.025790                     19   \n",
      "\n",
      "    cumulative_time_actual  \n",
      "7                 5301.096  \n",
      "18                5208.311  \n",
      "2                 5203.333  \n",
      "20                5276.644  \n",
      "19                5219.811  \n",
      "3                 5235.522  \n",
      "0                 5209.109  \n",
      "16                5239.306  \n",
      "10                5223.602  \n",
      "8                 5242.778  \n",
      "9                 5231.703  \n",
      "1                 5237.274  \n",
      "6                 5225.855  \n",
      "5                 5262.510  \n",
      "4                 5238.424  \n",
      "12                5260.828  \n",
      "14                5254.653  \n",
      "11                5301.656  \n",
      "15                5302.587  \n",
      "21                5256.784  \n",
      "13                5236.276  \n",
      "17                5251.584  \n"
     ]
    },
    {
     "data": {
      "image/png": "[encoded data removed]",
      "text/plain": [
       "<Figure size 1000x600 with 2 Axes>"
      ]
     },
     "metadata": {},
     "output_type": "display_data"
    },
    {
     "data": {
      "text/html": [
       "<div>\n",
       "<style scoped>\n",
       "    .dataframe tbody tr th:only-of-type {\n",
       "        vertical-align: middle;\n",
       "    }\n",
       "\n",
       "    .dataframe tbody tr th {\n",
       "        vertical-align: top;\n",
       "    }\n",
       "\n",
       "    .dataframe thead th {\n",
       "        text-align: right;\n",
       "    }\n",
       "</style>\n",
       "<table border=\"1\" class=\"dataframe\">\n",
       "  <thead>\n",
       "    <tr style=\"text-align: right;\">\n",
       "      <th></th>\n",
       "      <th>driver_id</th>\n",
       "      <th>final_position_sim</th>\n",
       "      <th>cumulative_time_sim</th>\n",
       "      <th>final_position_actual</th>\n",
       "      <th>cumulative_time_actual</th>\n",
       "    </tr>\n",
       "  </thead>\n",
       "  <tbody>\n",
       "    <tr>\n",
       "      <th>7</th>\n",
       "      <td>9</td>\n",
       "      <td>1.0</td>\n",
       "      <td>4919.203989</td>\n",
       "      <td>9</td>\n",
       "      <td>5301.096</td>\n",
       "    </tr>\n",
       "    <tr>\n",
       "      <th>18</th>\n",
       "      <td>27</td>\n",
       "      <td>2.5</td>\n",
       "      <td>5149.289655</td>\n",
       "      <td>2</td>\n",
       "      <td>5208.311</td>\n",
       "    </tr>\n",
       "    <tr>\n",
       "      <th>2</th>\n",
       "      <td>3</td>\n",
       "      <td>4.0</td>\n",
       "      <td>5194.195078</td>\n",
       "      <td>1</td>\n",
       "      <td>5203.333</td>\n",
       "    </tr>\n",
       "    <tr>\n",
       "      <th>20</th>\n",
       "      <td>31</td>\n",
       "      <td>6.0</td>\n",
       "      <td>5211.857394</td>\n",
       "      <td>22</td>\n",
       "      <td>5276.644</td>\n",
       "    </tr>\n",
       "    <tr>\n",
       "      <th>19</th>\n",
       "      <td>30</td>\n",
       "      <td>7.5</td>\n",
       "      <td>5228.975381</td>\n",
       "      <td>12</td>\n",
       "      <td>5219.811</td>\n",
       "    </tr>\n",
       "  </tbody>\n",
       "</table>\n",
       "</div>"
      ],
      "text/plain": [
       "    driver_id  final_position_sim  cumulative_time_sim  final_position_actual  \\\n",
       "7           9                 1.0          4919.203989                      9   \n",
       "18         27                 2.5          5149.289655                      2   \n",
       "2           3                 4.0          5194.195078                      1   \n",
       "20         31                 6.0          5211.857394                     22   \n",
       "19         30                 7.5          5228.975381                     12   \n",
       "\n",
       "    cumulative_time_actual  \n",
       "7                 5301.096  \n",
       "18                5208.311  \n",
       "2                 5203.333  \n",
       "20                5276.644  \n",
       "19                5219.811  "
      ]
     },
     "metadata": {},
     "output_type": "display_data"
    },
    {
     "name": "stdout",
     "output_type": "stream",
     "text": [
      "============================================================\n",
      "🏁 Running Monte Carlo simulation for: MexicoCity\n",
      "============================================================\n"
     ]
    },
    {
     "data": {
      "application/vnd.jupyter.widget-view+json": {
       "model_id": "19476fa61d39476eaeb4a85519c6d6bf",
       "version_major": 2,
       "version_minor": 0
      },
      "text/plain": [
       "Output()"
      ]
     },
     "metadata": {},
     "output_type": "display_data"
    },
    {
     "data": {
      "text/html": [
       "<pre style=\"white-space:pre;overflow-x:auto;line-height:normal;font-family:Menlo,'DejaVu Sans Mono',consolas,'Courier New',monospace\">c:\\Users\\mateo\\Desktop\\MCEM\\new\\Nouveau dossier\\Simulation_Project\\run.py:71: FutureWarning: The behavior of \n",
       "DataFrame concatenation with empty or all-NA entries is deprecated. In a future version, this will no longer \n",
       "exclude empty or all-NA columns when determining the result dtypes. To retain the old behavior, exclude the \n",
       "relevant entries before the concat operation.\n",
       "  self.laps_summary = pd.concat([self.laps_summary, new_row_df.dropna(axis=1, how='all')], ignore_index=True)\n",
       "</pre>\n"
      ],
      "text/plain": [
       "c:\\Users\\mateo\\Desktop\\MCEM\\new\\Nouveau dossier\\Simulation_Project\\run.py:71: FutureWarning: The behavior of \n",
       "DataFrame concatenation with empty or all-NA entries is deprecated. In a future version, this will no longer \n",
       "exclude empty or all-NA columns when determining the result dtypes. To retain the old behavior, exclude the \n",
       "relevant entries before the concat operation.\n",
       "  self.laps_summary = pd.concat([self.laps_summary, new_row_df.dropna(axis=1, how='all')], ignore_index=True)\n"
      ]
     },
     "metadata": {},
     "output_type": "display_data"
    },
    {
     "data": {
      "text/html": [
       "<pre style=\"white-space:pre;overflow-x:auto;line-height:normal;font-family:Menlo,'DejaVu Sans Mono',consolas,'Courier New',monospace\">c:\\Users\\mateo\\Desktop\\MCEM\\new\\Nouveau dossier\\Simulation_Project\\run.py:71: FutureWarning: The behavior of \n",
       "DataFrame concatenation with empty or all-NA entries is deprecated. In a future version, this will no longer \n",
       "exclude empty or all-NA columns when determining the result dtypes. To retain the old behavior, exclude the \n",
       "relevant entries before the concat operation.\n",
       "  self.laps_summary = pd.concat([self.laps_summary, new_row_df.dropna(axis=1, how='all')], ignore_index=True)\n",
       "</pre>\n"
      ],
      "text/plain": [
       "c:\\Users\\mateo\\Desktop\\MCEM\\new\\Nouveau dossier\\Simulation_Project\\run.py:71: FutureWarning: The behavior of \n",
       "DataFrame concatenation with empty or all-NA entries is deprecated. In a future version, this will no longer \n",
       "exclude empty or all-NA columns when determining the result dtypes. To retain the old behavior, exclude the \n",
       "relevant entries before the concat operation.\n",
       "  self.laps_summary = pd.concat([self.laps_summary, new_row_df.dropna(axis=1, how='all')], ignore_index=True)\n"
      ]
     },
     "metadata": {},
     "output_type": "display_data"
    },
    {
     "data": {
      "text/html": [
       "<pre style=\"white-space:pre;overflow-x:auto;line-height:normal;font-family:Menlo,'DejaVu Sans Mono',consolas,'Courier New',monospace\"></pre>\n"
      ],
      "text/plain": []
     },
     "metadata": {},
     "output_type": "display_data"
    },
    {
     "data": {
      "text/html": [
       "<pre style=\"white-space:pre;overflow-x:auto;line-height:normal;font-family:Menlo,'DejaVu Sans Mono',consolas,'Courier New',monospace\">\n",
       "</pre>\n"
      ],
      "text/plain": [
       "\n"
      ]
     },
     "metadata": {},
     "output_type": "display_data"
    },
    {
     "name": "stdout",
     "output_type": "stream",
     "text": [
      "\n",
      "=== Wilcoxon Test for Lap Times ===\n",
      "\n",
      " Résultats du test de Wilcoxon:\n",
      "Statistique de test : 31.0\n",
      "P-value : 0.00573\n",
      " Rejet de H0 : Les temps simulés et réels diffèrent significativement.\n",
      "\n",
      "=== Spearman Rank Correlation for Positions ===\n",
      "\n",
      " Résultats du test de corrélation de Spearman:\n",
      "Coefficient de corrélation (rs) : 0.6658\n",
      "P-value : 0.00099\n",
      " Rejet de H0 : Les positions simulées et réelles sont significativement corrélées.\n",
      "Comparaison des résultats moyens issus des simulations Monte Carlo et des réels:\n",
      "    driver_id  final_position_sim  cumulative_time_sim  final_position_actual  \\\n",
      "7           9                 1.0          5878.718418                      9   \n",
      "3           4                 2.0          5962.145859                     17   \n",
      "0           1                 3.5          6038.669341                      1   \n",
      "18         27                 4.0          6050.248030                      4   \n",
      "2           3                 4.5          6053.627064                      2   \n",
      "10         12                 6.0          6065.654422                      5   \n",
      "8          10                 7.5          6106.971746                     12   \n",
      "11         15                 8.0          6099.568285                      8   \n",
      "4           5                11.5          6165.071257                     13   \n",
      "13         19                11.5          6167.023264                     11   \n",
      "16         25                11.5          6165.226699                     16   \n",
      "1           2                11.5          6157.977436                      3   \n",
      "5           7                11.5          6156.431066                      7   \n",
      "9          11                12.0          6171.928519                      6   \n",
      "12         16                15.0          6202.810202                     10   \n",
      "6           8                16.0          6251.499978                     18   \n",
      "14         20                16.0          6264.550213                     19   \n",
      "15         22                18.5          6552.747391                     20   \n",
      "17         26                18.5          6334.871032                     15   \n",
      "20         34                20.0          7884.737276                     21   \n",
      "19         31                21.0             0.000000                     22   \n",
      "\n",
      "    cumulative_time_actual  \n",
      "7                 6107.608  \n",
      "3                 6101.268  \n",
      "0                 6031.402  \n",
      "18                6047.725  \n",
      "2                 6039.756  \n",
      "10                6048.715  \n",
      "8                 6072.962  \n",
      "11                6097.014  \n",
      "4                 6081.399  \n",
      "13                6066.179  \n",
      "16                6092.263  \n",
      "1                 6052.260  \n",
      "5                 6090.293  \n",
      "9                 6080.778  \n",
      "12                6108.200  \n",
      "6                 6096.274  \n",
      "14                6101.934  \n",
      "15                6110.937  \n",
      "17                6095.456  \n",
      "20                6061.123  \n",
      "19                   0.000  \n"
     ]
    },
    {
     "data": {
      "image/png": "[encoded data removed]",
      "text/plain": [
       "<Figure size 1000x600 with 2 Axes>"
      ]
     },
     "metadata": {},
     "output_type": "display_data"
    },
    {
     "data": {
      "text/html": [
       "<div>\n",
       "<style scoped>\n",
       "    .dataframe tbody tr th:only-of-type {\n",
       "        vertical-align: middle;\n",
       "    }\n",
       "\n",
       "    .dataframe tbody tr th {\n",
       "        vertical-align: top;\n",
       "    }\n",
       "\n",
       "    .dataframe thead th {\n",
       "        text-align: right;\n",
       "    }\n",
       "</style>\n",
       "<table border=\"1\" class=\"dataframe\">\n",
       "  <thead>\n",
       "    <tr style=\"text-align: right;\">\n",
       "      <th></th>\n",
       "      <th>driver_id</th>\n",
       "      <th>final_position_sim</th>\n",
       "      <th>cumulative_time_sim</th>\n",
       "      <th>final_position_actual</th>\n",
       "      <th>cumulative_time_actual</th>\n",
       "    </tr>\n",
       "  </thead>\n",
       "  <tbody>\n",
       "    <tr>\n",
       "      <th>7</th>\n",
       "      <td>9</td>\n",
       "      <td>1.0</td>\n",
       "      <td>5878.718418</td>\n",
       "      <td>9</td>\n",
       "      <td>6107.608</td>\n",
       "    </tr>\n",
       "    <tr>\n",
       "      <th>3</th>\n",
       "      <td>4</td>\n",
       "      <td>2.0</td>\n",
       "      <td>5962.145859</td>\n",
       "      <td>17</td>\n",
       "      <td>6101.268</td>\n",
       "    </tr>\n",
       "    <tr>\n",
       "      <th>0</th>\n",
       "      <td>1</td>\n",
       "      <td>3.5</td>\n",
       "      <td>6038.669341</td>\n",
       "      <td>1</td>\n",
       "      <td>6031.402</td>\n",
       "    </tr>\n",
       "    <tr>\n",
       "      <th>18</th>\n",
       "      <td>27</td>\n",
       "      <td>4.0</td>\n",
       "      <td>6050.248030</td>\n",
       "      <td>4</td>\n",
       "      <td>6047.725</td>\n",
       "    </tr>\n",
       "    <tr>\n",
       "      <th>2</th>\n",
       "      <td>3</td>\n",
       "      <td>4.5</td>\n",
       "      <td>6053.627064</td>\n",
       "      <td>2</td>\n",
       "      <td>6039.756</td>\n",
       "    </tr>\n",
       "  </tbody>\n",
       "</table>\n",
       "</div>"
      ],
      "text/plain": [
       "    driver_id  final_position_sim  cumulative_time_sim  final_position_actual  \\\n",
       "7           9                 1.0          5878.718418                      9   \n",
       "3           4                 2.0          5962.145859                     17   \n",
       "0           1                 3.5          6038.669341                      1   \n",
       "18         27                 4.0          6050.248030                      4   \n",
       "2           3                 4.5          6053.627064                      2   \n",
       "\n",
       "    cumulative_time_actual  \n",
       "7                 6107.608  \n",
       "3                 6101.268  \n",
       "0                 6031.402  \n",
       "18                6047.725  \n",
       "2                 6039.756  "
      ]
     },
     "metadata": {},
     "output_type": "display_data"
    },
    {
     "name": "stdout",
     "output_type": "stream",
     "text": [
      "============================================================\n",
      "🏁 Running Monte Carlo simulation for: YasMarina\n",
      "============================================================\n"
     ]
    },
    {
     "data": {
      "application/vnd.jupyter.widget-view+json": {
       "model_id": "95cd8925a651476f845dc7ebd6171865",
       "version_major": 2,
       "version_minor": 0
      },
      "text/plain": [
       "Output()"
      ]
     },
     "metadata": {},
     "output_type": "display_data"
    },
    {
     "data": {
      "text/html": [
       "<pre style=\"white-space:pre;overflow-x:auto;line-height:normal;font-family:Menlo,'DejaVu Sans Mono',consolas,'Courier New',monospace\">c:\\Users\\mateo\\Desktop\\MCEM\\new\\Nouveau dossier\\Simulation_Project\\run.py:71: FutureWarning: The behavior of \n",
       "DataFrame concatenation with empty or all-NA entries is deprecated. In a future version, this will no longer \n",
       "exclude empty or all-NA columns when determining the result dtypes. To retain the old behavior, exclude the \n",
       "relevant entries before the concat operation.\n",
       "  self.laps_summary = pd.concat([self.laps_summary, new_row_df.dropna(axis=1, how='all')], ignore_index=True)\n",
       "</pre>\n"
      ],
      "text/plain": [
       "c:\\Users\\mateo\\Desktop\\MCEM\\new\\Nouveau dossier\\Simulation_Project\\run.py:71: FutureWarning: The behavior of \n",
       "DataFrame concatenation with empty or all-NA entries is deprecated. In a future version, this will no longer \n",
       "exclude empty or all-NA columns when determining the result dtypes. To retain the old behavior, exclude the \n",
       "relevant entries before the concat operation.\n",
       "  self.laps_summary = pd.concat([self.laps_summary, new_row_df.dropna(axis=1, how='all')], ignore_index=True)\n"
      ]
     },
     "metadata": {},
     "output_type": "display_data"
    },
    {
     "data": {
      "text/html": [
       "<pre style=\"white-space:pre;overflow-x:auto;line-height:normal;font-family:Menlo,'DejaVu Sans Mono',consolas,'Courier New',monospace\">c:\\Users\\mateo\\Desktop\\MCEM\\new\\Nouveau dossier\\Simulation_Project\\run.py:71: FutureWarning: The behavior of \n",
       "DataFrame concatenation with empty or all-NA entries is deprecated. In a future version, this will no longer \n",
       "exclude empty or all-NA columns when determining the result dtypes. To retain the old behavior, exclude the \n",
       "relevant entries before the concat operation.\n",
       "  self.laps_summary = pd.concat([self.laps_summary, new_row_df.dropna(axis=1, how='all')], ignore_index=True)\n",
       "</pre>\n"
      ],
      "text/plain": [
       "c:\\Users\\mateo\\Desktop\\MCEM\\new\\Nouveau dossier\\Simulation_Project\\run.py:71: FutureWarning: The behavior of \n",
       "DataFrame concatenation with empty or all-NA entries is deprecated. In a future version, this will no longer \n",
       "exclude empty or all-NA columns when determining the result dtypes. To retain the old behavior, exclude the \n",
       "relevant entries before the concat operation.\n",
       "  self.laps_summary = pd.concat([self.laps_summary, new_row_df.dropna(axis=1, how='all')], ignore_index=True)\n"
      ]
     },
     "metadata": {},
     "output_type": "display_data"
    },
    {
     "data": {
      "text/html": [
       "<pre style=\"white-space:pre;overflow-x:auto;line-height:normal;font-family:Menlo,'DejaVu Sans Mono',consolas,'Courier New',monospace\"></pre>\n"
      ],
      "text/plain": []
     },
     "metadata": {},
     "output_type": "display_data"
    },
    {
     "data": {
      "text/html": [
       "<pre style=\"white-space:pre;overflow-x:auto;line-height:normal;font-family:Menlo,'DejaVu Sans Mono',consolas,'Courier New',monospace\">\n",
       "</pre>\n"
      ],
      "text/plain": [
       "\n"
      ]
     },
     "metadata": {},
     "output_type": "display_data"
    },
    {
     "name": "stdout",
     "output_type": "stream",
     "text": [
      "\n",
      "=== Wilcoxon Test for Lap Times ===\n",
      "\n",
      " Résultats du test de Wilcoxon:\n",
      "Statistique de test : 61.0\n",
      "P-value : 0.03289\n",
      " Rejet de H0 : Les temps simulés et réels diffèrent significativement.\n",
      "\n",
      "=== Spearman Rank Correlation for Positions ===\n",
      "\n",
      " Résultats du test de corrélation de Spearman:\n",
      "Coefficient de corrélation (rs) : 0.7663\n",
      "P-value : 0.00003\n",
      " Rejet de H0 : Les positions simulées et réelles sont significativement corrélées.\n",
      "Comparaison des résultats moyens issus des simulations Monte Carlo et des réels:\n",
      "    driver_id  final_position_sim  cumulative_time_sim  final_position_actual  \\\n",
      "10         12                 1.0          5697.443474                      3   \n",
      "0           1                 2.5          5795.904706                      1   \n",
      "7           9                 4.0          5821.473077                      9   \n",
      "19         30                 4.5          5830.203766                     17   \n",
      "2           3                 6.5          5849.585499                      2   \n",
      "9          11                 6.5          5839.615191                      6   \n",
      "18         27                 7.5          5861.496345                      4   \n",
      "1           2                 7.5          5855.401934                      5   \n",
      "13         19                 9.0          5861.289032                     15   \n",
      "5           7                10.5          5887.621921                      7   \n",
      "20         31                10.5          6357.191092                     14   \n",
      "17         26                11.0          5887.286452                     16   \n",
      "12         16                12.5          5923.143412                      8   \n",
      "4           5                14.5          5952.389038                     10   \n",
      "14         20                14.5          5940.359109                     12   \n",
      "15         22                14.5          5937.145581                     11   \n",
      "21         34                17.0          6052.386154                     13   \n",
      "16         25                17.0          6061.492237                     18   \n",
      "6           8                19.0          1425.953463                     19   \n",
      "8          10                20.0          1181.232523                     20   \n",
      "11         15                21.0           541.339947                     21   \n",
      "3           4                22.0           443.003425                     22   \n",
      "\n",
      "    cumulative_time_actual  \n",
      "10                5884.856  \n",
      "0                 5884.013  \n",
      "7                 5943.449  \n",
      "19                5930.205  \n",
      "2                 5884.452  \n",
      "9                 5902.829  \n",
      "18                5885.698  \n",
      "1                 5889.328  \n",
      "13                5921.672  \n",
      "5                 5934.127  \n",
      "20                5920.779  \n",
      "17                5927.042  \n",
      "12                5942.789  \n",
      "4                 5943.909  \n",
      "14                5979.126  \n",
      "15                5960.790  \n",
      "21                5914.474  \n",
      "16                4522.129  \n",
      "6                 1562.917  \n",
      "8                 1362.839  \n",
      "11                 663.071  \n",
      "3                  587.308  \n"
     ]
    },
    {
     "data": {
      "image/png": "[encoded data removed]",
      "text/plain": [
       "<Figure size 1000x600 with 2 Axes>"
      ]
     },
     "metadata": {},
     "output_type": "display_data"
    },
    {
     "data": {
      "text/html": [
       "<div>\n",
       "<style scoped>\n",
       "    .dataframe tbody tr th:only-of-type {\n",
       "        vertical-align: middle;\n",
       "    }\n",
       "\n",
       "    .dataframe tbody tr th {\n",
       "        vertical-align: top;\n",
       "    }\n",
       "\n",
       "    .dataframe thead th {\n",
       "        text-align: right;\n",
       "    }\n",
       "</style>\n",
       "<table border=\"1\" class=\"dataframe\">\n",
       "  <thead>\n",
       "    <tr style=\"text-align: right;\">\n",
       "      <th></th>\n",
       "      <th>driver_id</th>\n",
       "      <th>final_position_sim</th>\n",
       "      <th>cumulative_time_sim</th>\n",
       "      <th>final_position_actual</th>\n",
       "      <th>cumulative_time_actual</th>\n",
       "    </tr>\n",
       "  </thead>\n",
       "  <tbody>\n",
       "    <tr>\n",
       "      <th>10</th>\n",
       "      <td>12</td>\n",
       "      <td>1.0</td>\n",
       "      <td>5697.443474</td>\n",
       "      <td>3</td>\n",
       "      <td>5884.856</td>\n",
       "    </tr>\n",
       "    <tr>\n",
       "      <th>0</th>\n",
       "      <td>1</td>\n",
       "      <td>2.5</td>\n",
       "      <td>5795.904706</td>\n",
       "      <td>1</td>\n",
       "      <td>5884.013</td>\n",
       "    </tr>\n",
       "    <tr>\n",
       "      <th>7</th>\n",
       "      <td>9</td>\n",
       "      <td>4.0</td>\n",
       "      <td>5821.473077</td>\n",
       "      <td>9</td>\n",
       "      <td>5943.449</td>\n",
       "    </tr>\n",
       "    <tr>\n",
       "      <th>19</th>\n",
       "      <td>30</td>\n",
       "      <td>4.5</td>\n",
       "      <td>5830.203766</td>\n",
       "      <td>17</td>\n",
       "      <td>5930.205</td>\n",
       "    </tr>\n",
       "    <tr>\n",
       "      <th>2</th>\n",
       "      <td>3</td>\n",
       "      <td>6.5</td>\n",
       "      <td>5849.585499</td>\n",
       "      <td>2</td>\n",
       "      <td>5884.452</td>\n",
       "    </tr>\n",
       "  </tbody>\n",
       "</table>\n",
       "</div>"
      ],
      "text/plain": [
       "    driver_id  final_position_sim  cumulative_time_sim  final_position_actual  \\\n",
       "10         12                 1.0          5697.443474                      3   \n",
       "0           1                 2.5          5795.904706                      1   \n",
       "7           9                 4.0          5821.473077                      9   \n",
       "19         30                 4.5          5830.203766                     17   \n",
       "2           3                 6.5          5849.585499                      2   \n",
       "\n",
       "    cumulative_time_actual  \n",
       "10                5884.856  \n",
       "0                 5884.013  \n",
       "7                 5943.449  \n",
       "19                5930.205  \n",
       "2                 5884.452  "
      ]
     },
     "metadata": {},
     "output_type": "display_data"
    }
   ],
   "source": [
    "# === Dictionary to store simulators by name ===\n",
    "simulators = {}\n",
    "\n",
    "# === Loop through each GP ===\n",
    "for gp_name, cfg in gp_configs.items():\n",
    "    print(\"=\" * 60)\n",
    "    print(f\"🏁 Running Monte Carlo simulation for: {gp_name}\")\n",
    "    print(\"=\" * 60)\n",
    "\n",
    "    # Load strategy\n",
    "    with open(f\"../data/{cfg['strategy_file']}\", \"rb\") as f:\n",
    "        driver_strategies = pickle.load(f)\n",
    "\n",
    "    # Create simulator\n",
    "    sim = MonteCarloSimulator(\n",
    "        season=season,\n",
    "        gp_location=gp_name,\n",
    "        db_path=db_path,\n",
    "        driver_strategies=driver_strategies,\n",
    "        num_simulations=num_simulations,\n",
    "        test=True\n",
    "    )\n",
    "\n",
    "    sim.run_simulation()\n",
    "    sim.summarize()\n",
    "\n",
    "    # Store simulator with dynamic name (and in dict)\n",
    "    globals()[cfg[\"var_name\"]] = sim\n",
    "    simulators[cfg[\"var_name\"]] = sim\n",
    "\n",
    "    # # Optional: display preview\n",
    "    # display(sim.comparison_df.head())\n"
   ]
  }
 ],
 "metadata": {
  "kernelspec": {
   "display_name": "Python 3",
   "language": "python",
   "name": "python3"
  },
  "language_info": {
   "codemirror_mode": {
    "name": "ipython",
    "version": 3
   },
   "file_extension": ".py",
   "mimetype": "text/x-python",
   "name": "python",
   "nbconvert_exporter": "python",
   "pygments_lexer": "ipython3",
   "version": "3.11.3"
  }
 },
 "nbformat": 4,
 "nbformat_minor": 2
}
